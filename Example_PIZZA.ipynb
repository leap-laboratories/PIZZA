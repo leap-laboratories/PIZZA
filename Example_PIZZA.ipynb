{
  "cells": [
    {
      "cell_type": "code",
      "execution_count": 11,
      "metadata": {
        "id": "ut3kR2GkpSk6"
      },
      "outputs": [
        {
          "name": "stdout",
          "output_type": "stream",
          "text": [
            "The autoreload extension is already loaded. To reload it, use:\n",
            "  %reload_ext autoreload\n"
          ]
        }
      ],
      "source": [
        "# Re-import modified modules without restarting the server\n",
        "%load_ext autoreload\n",
        "%autoreload 2"
      ]
    },
    {
      "cell_type": "code",
      "execution_count": 6,
      "metadata": {
        "colab": {
          "base_uri": "https://localhost:8080/"
        },
        "id": "qWqjH0wdRufK",
        "outputId": "fcd1d519-5e47-4dbc-c5e0-87785ca091e1"
      },
      "outputs": [],
      "source": [
        "# !git clone https://github.com/leap-laboratories/PIZZA.git\n",
        "# !pip install python-dotenv openai transformers"
      ]
    },
    {
      "cell_type": "code",
      "execution_count": 67,
      "metadata": {
        "colab": {
          "base_uri": "https://localhost:8080/"
        },
        "id": "S_SoQ7FLUZ-T",
        "outputId": "a6d7300c-a92d-4a1e-bbd9-a8715a2beb6d"
      },
      "outputs": [
        {
          "name": "stderr",
          "output_type": "stream",
          "text": [
            "/Users/jessicarumbelow/PIZZA/.venv/lib/python3.10/site-packages/huggingface_hub/file_download.py:1132: FutureWarning: `resume_download` is deprecated and will be removed in version 1.0.0. Downloads always resume when possible. If you want to force a new download, use `force_download=True`.\n",
            "  warnings.warn(\n"
          ]
        }
      ],
      "source": [
        "from attribution.api_attribution import OpenAIAttributor\n",
        "from attribution.experiment_logger import ExperimentLogger\n",
        "from attribution.token_perturbation import (\n",
        "    FixedPerturbationStrategy,\n",
        "    NthNearestPerturbationStrategy,\n",
        ")\n",
        "\n",
        "attributor = OpenAIAttributor()"
      ]
    },
    {
      "cell_type": "code",
      "execution_count": 109,
      "metadata": {},
      "outputs": [
        {
          "name": "stdout",
          "output_type": "stream",
          "text": [
            "1 hour and 13 minutes.\n"
          ]
        }
      ],
      "source": [
        "input_str = \"9:47 now. How long 'til 11?\"\n",
        "print(attributor.get_chat_completion(input_str).message.content)"
      ]
    },
    {
      "cell_type": "code",
      "execution_count": 119,
      "metadata": {
        "colab": {
          "base_uri": "https://localhost:8080/",
          "height": 754
        },
        "id": "ybR4GqPcU-DM",
        "outputId": "c3aef6eb-648c-4099-e4df-2f35c652a651"
      },
      "outputs": [
        {
          "name": "stderr",
          "output_type": "stream",
          "text": [
            "/Users/jessicarumbelow/PIZZA/.venv/lib/python3.10/site-packages/huggingface_hub/file_download.py:1132: FutureWarning: `resume_download` is deprecated and will be removed in version 1.0.0. Downloads always resume when possible. If you want to force a new download, use `force_download=True`.\n",
            "  warnings.warn(\n"
          ]
        },
        {
          "name": "stdout",
          "output_type": "stream",
          "text": [
            "['1', ' hour', ' and', ' ', '13', ' minutes', '.']\n",
            "0.4514208442351935\n",
            "[3.85354202e-01 9.99771576e-01 9.99521041e-01 1.05608701e-04\n",
            " 2.53358250e-01 1.05359590e-04 5.21729874e-01]\n",
            "(7,)\n"
          ]
        },
        {
          "data": {
            "text/html": [
              "<div>\n",
              "<style scoped>\n",
              "    .dataframe tbody tr th:only-of-type {\n",
              "        vertical-align: middle;\n",
              "    }\n",
              "\n",
              "    .dataframe tbody tr th {\n",
              "        vertical-align: top;\n",
              "    }\n",
              "\n",
              "    .dataframe thead th {\n",
              "        text-align: right;\n",
              "    }\n",
              "</style>\n",
              "<table border=\"1\" class=\"dataframe\">\n",
              "  <thead>\n",
              "    <tr style=\"text-align: right;\">\n",
              "      <th></th>\n",
              "      <th>exp_id</th>\n",
              "      <th>original_input</th>\n",
              "      <th>original_output</th>\n",
              "      <th>perturbation_strategy</th>\n",
              "      <th>perturb_word_wise</th>\n",
              "      <th>duration</th>\n",
              "    </tr>\n",
              "  </thead>\n",
              "  <tbody>\n",
              "    <tr>\n",
              "      <th>0</th>\n",
              "      <td>1</td>\n",
              "      <td>9:47 now. How long 'til 11?</td>\n",
              "      <td>1 hour and 13 minutes.</td>\n",
              "      <td>fixed</td>\n",
              "      <td>False</td>\n",
              "      <td>None</td>\n",
              "    </tr>\n",
              "  </tbody>\n",
              "</table>\n",
              "</div>"
            ],
            "text/plain": [
              "   exp_id               original_input         original_output  \\\n",
              "0       1  9:47 now. How long 'til 11?  1 hour and 13 minutes.   \n",
              "\n",
              "  perturbation_strategy  perturb_word_wise duration  \n",
              "0                 fixed              False     None  "
            ]
          },
          "metadata": {},
          "output_type": "display_data"
        },
        {
          "data": {
            "text/html": [
              "<style type=\"text/css\">\n",
              "</style>\n",
              "<table id=\"T_c67bd\">\n",
              "  <thead>\n",
              "  </thead>\n",
              "  <tbody>\n",
              "  </tbody>\n",
              "</table>\n"
            ],
            "text/plain": [
              "<pandas.io.formats.style.Styler at 0x2db08c430>"
            ]
          },
          "metadata": {},
          "output_type": "display_data"
        }
      ],
      "source": [
        "logger = ExperimentLogger()\n",
        "attributor.compute_attributions(\n",
        "    input_str,\n",
        "    perturbation_strategy=FixedPerturbationStrategy(\" \"),\n",
        "    attribution_strategies=[\"prob_diff\"],\n",
        "    logger=logger,\n",
        "    perturb_word_wise=False,\n",
        "    ignore_output_token_location=True,\n",
        ")\n",
        "display(logger.df_experiments)\n",
        "logger.print_sentence_attribution()\n",
        "logger.print_attribution_matrix(exp_id=1, show_debug_cols=True)"
      ]
    },
    {
      "cell_type": "code",
      "execution_count": 120,
      "metadata": {
        "id": "M4PomjjMXXfo"
      },
      "outputs": [
        {
          "name": "stderr",
          "output_type": "stream",
          "text": [
            "/Users/jessicarumbelow/PIZZA/.venv/lib/python3.10/site-packages/huggingface_hub/file_download.py:1132: FutureWarning: `resume_download` is deprecated and will be removed in version 1.0.0. Downloads always resume when possible. If you want to force a new download, use `force_download=True`.\n",
            "  warnings.warn(\n"
          ]
        },
        {
          "name": "stdout",
          "output_type": "stream",
          "text": [
            "['1', ' hour', ' and', ' ', '13', ' minutes', '.']\n",
            "0.11696658\n",
            "[ 2.7703631e-01  2.4357206e-01  1.8119115e-01  1.1920929e-07\n",
            " -1.1920929e-07  0.0000000e+00]\n",
            "(6,)\n"
          ]
        },
        {
          "data": {
            "text/html": [
              "<div>\n",
              "<style scoped>\n",
              "    .dataframe tbody tr th:only-of-type {\n",
              "        vertical-align: middle;\n",
              "    }\n",
              "\n",
              "    .dataframe tbody tr th {\n",
              "        vertical-align: top;\n",
              "    }\n",
              "\n",
              "    .dataframe thead th {\n",
              "        text-align: right;\n",
              "    }\n",
              "</style>\n",
              "<table border=\"1\" class=\"dataframe\">\n",
              "  <thead>\n",
              "    <tr style=\"text-align: right;\">\n",
              "      <th></th>\n",
              "      <th>exp_id</th>\n",
              "      <th>original_input</th>\n",
              "      <th>original_output</th>\n",
              "      <th>perturbation_strategy</th>\n",
              "      <th>perturb_word_wise</th>\n",
              "      <th>duration</th>\n",
              "    </tr>\n",
              "  </thead>\n",
              "  <tbody>\n",
              "    <tr>\n",
              "      <th>0</th>\n",
              "      <td>1</td>\n",
              "      <td>9:47 now. How long 'til 11?</td>\n",
              "      <td>1 hour and 13 minutes.</td>\n",
              "      <td>fixed</td>\n",
              "      <td>False</td>\n",
              "      <td>None</td>\n",
              "    </tr>\n",
              "  </tbody>\n",
              "</table>\n",
              "</div>"
            ],
            "text/plain": [
              "   exp_id               original_input         original_output  \\\n",
              "0       1  9:47 now. How long 'til 11?  1 hour and 13 minutes.   \n",
              "\n",
              "  perturbation_strategy  perturb_word_wise duration  \n",
              "0                 fixed              False     None  "
            ]
          },
          "metadata": {},
          "output_type": "display_data"
        },
        {
          "data": {
            "text/html": [
              "<style type=\"text/css\">\n",
              "</style>\n",
              "<table id=\"T_90de7\">\n",
              "  <thead>\n",
              "  </thead>\n",
              "  <tbody>\n",
              "  </tbody>\n",
              "</table>\n"
            ],
            "text/plain": [
              "<pandas.io.formats.style.Styler at 0x17f539990>"
            ]
          },
          "metadata": {},
          "output_type": "display_data"
        }
      ],
      "source": [
        "logger = ExperimentLogger()\n",
        "attributor.compute_attributions(\n",
        "    input_str,\n",
        "    perturbation_strategy=FixedPerturbationStrategy(\" \"),\n",
        "    attribution_strategies=[\"cosine\"],\n",
        "    logger=logger,\n",
        "    perturb_word_wise=False,\n",
        "    ignore_output_token_location=True,\n",
        ")\n",
        "display(logger.df_experiments)\n",
        "logger.print_sentence_attribution()\n",
        "logger.print_attribution_matrix(exp_id=1, show_debug_cols=True)"
      ]
    },
    {
      "cell_type": "code",
      "execution_count": null,
      "metadata": {},
      "outputs": [],
      "source": []
    }
  ],
  "metadata": {
    "colab": {
      "machine_shape": "hm",
      "provenance": []
    },
    "kernelspec": {
      "display_name": "Python 3",
      "name": "python3"
    },
    "language_info": {
      "codemirror_mode": {
        "name": "ipython",
        "version": 3
      },
      "file_extension": ".py",
      "mimetype": "text/x-python",
      "name": "python",
      "nbconvert_exporter": "python",
      "pygments_lexer": "ipython3",
      "version": "3.10.14"
    }
  },
  "nbformat": 4,
  "nbformat_minor": 0
}
