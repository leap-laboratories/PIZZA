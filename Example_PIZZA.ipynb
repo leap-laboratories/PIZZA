{
  "cells": [
    {
      "cell_type": "code",
      "execution_count": 1,
      "metadata": {
        "id": "ut3kR2GkpSk6"
      },
      "outputs": [],
      "source": [
        "# Re-import modified modules without restarting the server\n",
        "%load_ext autoreload\n",
        "%autoreload 2"
      ]
    },
    {
      "cell_type": "code",
      "execution_count": 2,
      "metadata": {
        "colab": {
          "base_uri": "https://localhost:8080/"
        },
        "id": "qWqjH0wdRufK",
        "outputId": "fcd1d519-5e47-4dbc-c5e0-87785ca091e1"
      },
      "outputs": [],
      "source": [
        "# !git clone https://github.com/leap-laboratories/PIZZA.git\n",
        "# !pip install python-dotenv openai transformers"
      ]
    },
    {
      "cell_type": "code",
      "execution_count": 3,
      "metadata": {
        "colab": {
          "base_uri": "https://localhost:8080/"
        },
        "id": "S_SoQ7FLUZ-T",
        "outputId": "a6d7300c-a92d-4a1e-bbd9-a8715a2beb6d"
      },
      "outputs": [
        {
          "name": "stderr",
          "output_type": "stream",
          "text": [
            "/Users/jessicarumbelow/PIZZA/.venv/lib/python3.10/site-packages/tqdm/auto.py:21: TqdmWarning: IProgress not found. Please update jupyter and ipywidgets. See https://ipywidgets.readthedocs.io/en/stable/user_install.html\n",
            "  from .autonotebook import tqdm as notebook_tqdm\n"
          ]
        }
      ],
      "source": [
        "from attribution.api_attribution import OpenAIAttributor\n",
        "from attribution.experiment_logger import ExperimentLogger\n",
        "from attribution.token_perturbation import (\n",
        "    FixedPerturbationStrategy,\n",
        ")"
      ]
    },
    {
      "cell_type": "code",
      "execution_count": 4,
      "metadata": {
        "colab": {
          "base_uri": "https://localhost:8080/",
          "height": 754
        },
        "id": "ybR4GqPcU-DM",
        "outputId": "c3aef6eb-648c-4099-e4df-2f35c652a651"
      },
      "outputs": [
        {
          "name": "stderr",
          "output_type": "stream",
          "text": [
            "/Users/jessicarumbelow/PIZZA/.venv/lib/python3.10/site-packages/huggingface_hub/file_download.py:1132: FutureWarning: `resume_download` is deprecated and will be removed in version 1.0.0. Downloads always resume when possible. If you want to force a new download, use `force_download=True`.\n",
            "  warnings.warn(\n",
            "/Users/jessicarumbelow/PIZZA/.venv/lib/python3.10/site-packages/huggingface_hub/file_download.py:1132: FutureWarning: `resume_download` is deprecated and will be removed in version 1.0.0. Downloads always resume when possible. If you want to force a new download, use `force_download=True`.\n",
            "  warnings.warn(\n"
          ]
        },
        {
          "data": {
            "text/html": [
              "<div>\n",
              "<style scoped>\n",
              "    .dataframe tbody tr th:only-of-type {\n",
              "        vertical-align: middle;\n",
              "    }\n",
              "\n",
              "    .dataframe tbody tr th {\n",
              "        vertical-align: top;\n",
              "    }\n",
              "\n",
              "    .dataframe thead th {\n",
              "        text-align: right;\n",
              "    }\n",
              "</style>\n",
              "<table border=\"1\" class=\"dataframe\">\n",
              "  <thead>\n",
              "    <tr style=\"text-align: right;\">\n",
              "      <th></th>\n",
              "      <th>exp_id</th>\n",
              "      <th>original_input</th>\n",
              "      <th>original_output</th>\n",
              "      <th>perturbation_strategy</th>\n",
              "      <th>perturb_word_wise</th>\n",
              "      <th>duration</th>\n",
              "    </tr>\n",
              "  </thead>\n",
              "  <tbody>\n",
              "    <tr>\n",
              "      <th>0</th>\n",
              "      <td>1</td>\n",
              "      <td>It's 9:47 PM. How many minutes until 10?</td>\n",
              "      <td>13 minutes</td>\n",
              "      <td>fixed</td>\n",
              "      <td>False</td>\n",
              "      <td>11.606612</td>\n",
              "    </tr>\n",
              "  </tbody>\n",
              "</table>\n",
              "</div>"
            ],
            "text/plain": [
              "   exp_id                            original_input original_output  \\\n",
              "0       1  It's 9:47 PM. How many minutes until 10?      13 minutes   \n",
              "\n",
              "  perturbation_strategy  perturb_word_wise   duration  \n",
              "0                 fixed              False  11.606612  "
            ]
          },
          "metadata": {},
          "output_type": "display_data"
        },
        {
          "data": {
            "text/html": [
              "<style type=\"text/css\">\n",
              "#T_7b58d_row0_col0, #T_7b58d_row0_col1, #T_7b58d_row0_col2, #T_7b58d_row0_col3, #T_7b58d_row0_col4, #T_7b58d_row0_col5, #T_7b58d_row0_col6, #T_7b58d_row0_col7, #T_7b58d_row0_col8, #T_7b58d_row0_col9, #T_7b58d_row0_col10, #T_7b58d_row0_col11, #T_7b58d_row0_col12, #T_7b58d_row0_col13, #T_7b58d_row0_col14, #T_7b58d_row0_col15, #T_7b58d_row0_col16 {\n",
              "  white-space: pre-wrap;\n",
              "}\n",
              "</style>\n",
              "<table id=\"T_7b58d\">\n",
              "  <thead>\n",
              "    <tr>\n",
              "      <th class=\"blank level0\" >&nbsp;</th>\n",
              "      <th id=\"T_7b58d_level0_col0\" class=\"col_heading level0 col0\" >exp_id</th>\n",
              "      <th id=\"T_7b58d_level0_col1\" class=\"col_heading level0 col1\" >attribution_strategy</th>\n",
              "      <th id=\"T_7b58d_level0_col2\" class=\"col_heading level0 col2\" >perturbation_strategy</th>\n",
              "      <th id=\"T_7b58d_level0_col3\" class=\"col_heading level0 col3\" >perturb_word_wise</th>\n",
              "      <th id=\"T_7b58d_level0_col4\" class=\"col_heading level0 col4\" >token_1</th>\n",
              "      <th id=\"T_7b58d_level0_col5\" class=\"col_heading level0 col5\" >token_2</th>\n",
              "      <th id=\"T_7b58d_level0_col6\" class=\"col_heading level0 col6\" >token_3</th>\n",
              "      <th id=\"T_7b58d_level0_col7\" class=\"col_heading level0 col7\" >token_4</th>\n",
              "      <th id=\"T_7b58d_level0_col8\" class=\"col_heading level0 col8\" >token_5</th>\n",
              "      <th id=\"T_7b58d_level0_col9\" class=\"col_heading level0 col9\" >token_6</th>\n",
              "      <th id=\"T_7b58d_level0_col10\" class=\"col_heading level0 col10\" >token_7</th>\n",
              "      <th id=\"T_7b58d_level0_col11\" class=\"col_heading level0 col11\" >token_8</th>\n",
              "      <th id=\"T_7b58d_level0_col12\" class=\"col_heading level0 col12\" >token_9</th>\n",
              "      <th id=\"T_7b58d_level0_col13\" class=\"col_heading level0 col13\" >token_10</th>\n",
              "      <th id=\"T_7b58d_level0_col14\" class=\"col_heading level0 col14\" >token_11</th>\n",
              "      <th id=\"T_7b58d_level0_col15\" class=\"col_heading level0 col15\" >token_12</th>\n",
              "      <th id=\"T_7b58d_level0_col16\" class=\"col_heading level0 col16\" >token_13</th>\n",
              "    </tr>\n",
              "  </thead>\n",
              "  <tbody>\n",
              "    <tr>\n",
              "      <th id=\"T_7b58d_level0_row0\" class=\"row_heading level0 row0\" >0</th>\n",
              "      <td id=\"T_7b58d_row0_col0\" class=\"data row0 col0\" >1</td>\n",
              "      <td id=\"T_7b58d_row0_col1\" class=\"data row0 col1\" >prob_diff</td>\n",
              "      <td id=\"T_7b58d_row0_col2\" class=\"data row0 col2\" >fixed</td>\n",
              "      <td id=\"T_7b58d_row0_col3\" class=\"data row0 col3\" >False</td>\n",
              "      <td id=\"T_7b58d_row0_col4\" class=\"data row0 col4\" >It\n",
              "0.06</td>\n",
              "      <td id=\"T_7b58d_row0_col5\" class=\"data row0 col5\" >'s\n",
              "0.11</td>\n",
              "      <td id=\"T_7b58d_row0_col6\" class=\"data row0 col6\" >9\n",
              "0.94</td>\n",
              "      <td id=\"T_7b58d_row0_col7\" class=\"data row0 col7\" >:\n",
              "0.14</td>\n",
              "      <td id=\"T_7b58d_row0_col8\" class=\"data row0 col8\" >47\n",
              "0.94</td>\n",
              "      <td id=\"T_7b58d_row0_col9\" class=\"data row0 col9\" >PM\n",
              "0.01</td>\n",
              "      <td id=\"T_7b58d_row0_col10\" class=\"data row0 col10\" >.\n",
              "0.08</td>\n",
              "      <td id=\"T_7b58d_row0_col11\" class=\"data row0 col11\" >How\n",
              "0.05</td>\n",
              "      <td id=\"T_7b58d_row0_col12\" class=\"data row0 col12\" >many\n",
              "0.02</td>\n",
              "      <td id=\"T_7b58d_row0_col13\" class=\"data row0 col13\" >minutes\n",
              "0.21</td>\n",
              "      <td id=\"T_7b58d_row0_col14\" class=\"data row0 col14\" >until\n",
              "0.01</td>\n",
              "      <td id=\"T_7b58d_row0_col15\" class=\"data row0 col15\" >10\n",
              "0.13</td>\n",
              "      <td id=\"T_7b58d_row0_col16\" class=\"data row0 col16\" >?\n",
              "0.02</td>\n",
              "    </tr>\n",
              "  </tbody>\n",
              "</table>\n"
            ],
            "text/plain": [
              "<pandas.io.formats.style.Styler at 0x2db0f5600>"
            ]
          },
          "metadata": {},
          "output_type": "display_data"
        },
        {
          "name": "stdout",
          "output_type": "stream",
          "text": [
            "Attribution matrix for experiment 1 \n",
            "Attribution Strategy: prob_diff \n",
            "Perturbation strategy: fixed:\n",
            "Input Tokens (Rows) vs. Output Tokens (Columns)\n"
          ]
        },
        {
          "data": {
            "text/html": [
              "<style type=\"text/css\">\n",
              "#T_417cf_row0_col0 {\n",
              "  background-color: #ffeda1;\n",
              "  color: #000000;\n",
              "}\n",
              "#T_417cf_row0_col1, #T_417cf_row1_col1, #T_417cf_row3_col1, #T_417cf_row5_col0, #T_417cf_row5_col1, #T_417cf_row6_col1, #T_417cf_row7_col1, #T_417cf_row8_col1, #T_417cf_row9_col1, #T_417cf_row10_col0, #T_417cf_row10_col1, #T_417cf_row11_col1, #T_417cf_row12_col1 {\n",
              "  background-color: #ffffcc;\n",
              "  color: #000000;\n",
              "}\n",
              "#T_417cf_row1_col0 {\n",
              "  background-color: #fed977;\n",
              "  color: #000000;\n",
              "}\n",
              "#T_417cf_row2_col0 {\n",
              "  background-color: #820026;\n",
              "  color: #f1f1f1;\n",
              "}\n",
              "#T_417cf_row2_col1, #T_417cf_row4_col0, #T_417cf_row4_col1 {\n",
              "  background-color: #800026;\n",
              "  color: #f1f1f1;\n",
              "}\n",
              "#T_417cf_row3_col0 {\n",
              "  background-color: #fec863;\n",
              "  color: #000000;\n",
              "}\n",
              "#T_417cf_row6_col0 {\n",
              "  background-color: #ffe691;\n",
              "  color: #000000;\n",
              "}\n",
              "#T_417cf_row7_col0 {\n",
              "  background-color: #fff0a7;\n",
              "  color: #000000;\n",
              "}\n",
              "#T_417cf_row8_col0 {\n",
              "  background-color: #fffbc2;\n",
              "  color: #000000;\n",
              "}\n",
              "#T_417cf_row9_col0 {\n",
              "  background-color: #fd9841;\n",
              "  color: #000000;\n",
              "}\n",
              "#T_417cf_row11_col0 {\n",
              "  background-color: #fecf6b;\n",
              "  color: #000000;\n",
              "}\n",
              "#T_417cf_row12_col0 {\n",
              "  background-color: #fffac0;\n",
              "  color: #000000;\n",
              "}\n",
              "</style>\n",
              "<table id=\"T_417cf\">\n",
              "  <thead>\n",
              "    <tr>\n",
              "      <th class=\"blank level0\" >&nbsp;</th>\n",
              "      <th id=\"T_417cf_level0_col0\" class=\"col_heading level0 col0\" >13 (0)</th>\n",
              "      <th id=\"T_417cf_level0_col1\" class=\"col_heading level0 col1\" > minutes (1)</th>\n",
              "      <th id=\"T_417cf_level0_col2\" class=\"col_heading level0 col2\" >perturbed_input</th>\n",
              "      <th id=\"T_417cf_level0_col3\" class=\"col_heading level0 col3\" >perturbed_output</th>\n",
              "    </tr>\n",
              "  </thead>\n",
              "  <tbody>\n",
              "    <tr>\n",
              "      <th id=\"T_417cf_level0_row0\" class=\"row_heading level0 row0\" >It (0)</th>\n",
              "      <td id=\"T_417cf_row0_col0\" class=\"data row0 col0\" >0.118745</td>\n",
              "      <td id=\"T_417cf_row0_col1\" class=\"data row0 col1\" >0.000022</td>\n",
              "      <td id=\"T_417cf_row0_col2\" class=\"data row0 col2\" >'s 9:47 PM. How many minutes until 10?</td>\n",
              "      <td id=\"T_417cf_row0_col3\" class=\"data row0 col3\" >13 minutes.</td>\n",
              "    </tr>\n",
              "    <tr>\n",
              "      <th id=\"T_417cf_level0_row1\" class=\"row_heading level0 row1\" >'s (1)</th>\n",
              "      <td id=\"T_417cf_row1_col0\" class=\"data row1 col0\" >0.225912</td>\n",
              "      <td id=\"T_417cf_row1_col1\" class=\"data row1 col1\" >0.000029</td>\n",
              "      <td id=\"T_417cf_row1_col2\" class=\"data row1 col2\" >It  9:47 PM. How many minutes until 10?</td>\n",
              "      <td id=\"T_417cf_row1_col3\" class=\"data row1 col3\" >13 minutes</td>\n",
              "    </tr>\n",
              "    <tr>\n",
              "      <th id=\"T_417cf_level0_row2\" class=\"row_heading level0 row2\" >9 (2)</th>\n",
              "      <td id=\"T_417cf_row2_col0\" class=\"data row2 col0\" >0.874006</td>\n",
              "      <td id=\"T_417cf_row2_col1\" class=\"data row2 col1\" >0.999858</td>\n",
              "      <td id=\"T_417cf_row2_col2\" class=\"data row2 col2\" >It's :47 PM. How many minutes until 10?</td>\n",
              "      <td id=\"T_417cf_row2_col3\" class=\"data row2 col3\" >There are 193 minutes until 10 PM.</td>\n",
              "    </tr>\n",
              "    <tr>\n",
              "      <th id=\"T_417cf_level0_row3\" class=\"row_heading level0 row3\" >: (3)</th>\n",
              "      <td id=\"T_417cf_row3_col0\" class=\"data row3 col0\" >0.276482</td>\n",
              "      <td id=\"T_417cf_row3_col1\" class=\"data row3 col1\" >0.000060</td>\n",
              "      <td id=\"T_417cf_row3_col2\" class=\"data row3 col2\" >It's 9 47 PM. How many minutes until 10?</td>\n",
              "      <td id=\"T_417cf_row3_col3\" class=\"data row3 col3\" >13 minutes.</td>\n",
              "    </tr>\n",
              "    <tr>\n",
              "      <th id=\"T_417cf_level0_row4\" class=\"row_heading level0 row4\" >47 (4)</th>\n",
              "      <td id=\"T_417cf_row4_col0\" class=\"data row4 col0\" >0.879740</td>\n",
              "      <td id=\"T_417cf_row4_col1\" class=\"data row4 col1\" >0.999858</td>\n",
              "      <td id=\"T_417cf_row4_col2\" class=\"data row4 col2\" >It's 9:  PM. How many minutes until 10?</td>\n",
              "      <td id=\"T_417cf_row4_col3\" class=\"data row4 col3\" >There are 60 minutes in an hour, so there are 60 minutes until 10 PM.</td>\n",
              "    </tr>\n",
              "    <tr>\n",
              "      <th id=\"T_417cf_level0_row5\" class=\"row_heading level0 row5\" >PM (5)</th>\n",
              "      <td id=\"T_417cf_row5_col0\" class=\"data row5 col0\" >0.013212</td>\n",
              "      <td id=\"T_417cf_row5_col1\" class=\"data row5 col1\" >0.000035</td>\n",
              "      <td id=\"T_417cf_row5_col2\" class=\"data row5 col2\" >It's 9:47. How many minutes until 10?</td>\n",
              "      <td id=\"T_417cf_row5_col3\" class=\"data row5 col3\" >13 minutes.</td>\n",
              "    </tr>\n",
              "    <tr>\n",
              "      <th id=\"T_417cf_level0_row6\" class=\"row_heading level0 row6\" >. (6)</th>\n",
              "      <td id=\"T_417cf_row6_col0\" class=\"data row6 col0\" >0.159133</td>\n",
              "      <td id=\"T_417cf_row6_col1\" class=\"data row6 col1\" >0.000048</td>\n",
              "      <td id=\"T_417cf_row6_col2\" class=\"data row6 col2\" >It's 9:47 PM  How many minutes until 10?</td>\n",
              "      <td id=\"T_417cf_row6_col3\" class=\"data row6 col3\" >13 minutes</td>\n",
              "    </tr>\n",
              "    <tr>\n",
              "      <th id=\"T_417cf_level0_row7\" class=\"row_heading level0 row7\" >How (7)</th>\n",
              "      <td id=\"T_417cf_row7_col0\" class=\"data row7 col0\" >0.104452</td>\n",
              "      <td id=\"T_417cf_row7_col1\" class=\"data row7 col1\" >0.000002</td>\n",
              "      <td id=\"T_417cf_row7_col2\" class=\"data row7 col2\" >It's 9:47 PM.  many minutes until 10?</td>\n",
              "      <td id=\"T_417cf_row7_col3\" class=\"data row7 col3\" >13 minutes.</td>\n",
              "    </tr>\n",
              "    <tr>\n",
              "      <th id=\"T_417cf_level0_row8\" class=\"row_heading level0 row8\" >many (8)</th>\n",
              "      <td id=\"T_417cf_row8_col0\" class=\"data row8 col0\" >0.036482</td>\n",
              "      <td id=\"T_417cf_row8_col1\" class=\"data row8 col1\" >0.000077</td>\n",
              "      <td id=\"T_417cf_row8_col2\" class=\"data row8 col2\" >It's 9:47 PM. How  minutes until 10?</td>\n",
              "      <td id=\"T_417cf_row8_col3\" class=\"data row8 col3\" >13 minutes</td>\n",
              "    </tr>\n",
              "    <tr>\n",
              "      <th id=\"T_417cf_level0_row9\" class=\"row_heading level0 row9\" >minutes (9)</th>\n",
              "      <td id=\"T_417cf_row9_col0\" class=\"data row9 col0\" >0.412389</td>\n",
              "      <td id=\"T_417cf_row9_col1\" class=\"data row9 col1\" >0.001604</td>\n",
              "      <td id=\"T_417cf_row9_col2\" class=\"data row9 col2\" >It's 9:47 PM. How many  until 10?</td>\n",
              "      <td id=\"T_417cf_row9_col3\" class=\"data row9 col3\" >13 minutes.</td>\n",
              "    </tr>\n",
              "    <tr>\n",
              "      <th id=\"T_417cf_level0_row10\" class=\"row_heading level0 row10\" >until (10)</th>\n",
              "      <td id=\"T_417cf_row10_col0\" class=\"data row10 col0\" >0.011535</td>\n",
              "      <td id=\"T_417cf_row10_col1\" class=\"data row10 col1\" >0.000720</td>\n",
              "      <td id=\"T_417cf_row10_col2\" class=\"data row10 col2\" >It's 9:47 PM. How many minutes  10?</td>\n",
              "      <td id=\"T_417cf_row10_col3\" class=\"data row10 col3\" >13 minutes.</td>\n",
              "    </tr>\n",
              "    <tr>\n",
              "      <th id=\"T_417cf_level0_row11\" class=\"row_heading level0 row11\" >10 (11)</th>\n",
              "      <td id=\"T_417cf_row11_col0\" class=\"data row11 col0\" >0.256251</td>\n",
              "      <td id=\"T_417cf_row11_col1\" class=\"data row11 col1\" >0.000068</td>\n",
              "      <td id=\"T_417cf_row11_col2\" class=\"data row11 col2\" >It's 9:47 PM. How many minutes until?</td>\n",
              "      <td id=\"T_417cf_row11_col3\" class=\"data row11 col3\" >13 minutes until 10:00 PM.</td>\n",
              "    </tr>\n",
              "    <tr>\n",
              "      <th id=\"T_417cf_level0_row12\" class=\"row_heading level0 row12\" >? (12)</th>\n",
              "      <td id=\"T_417cf_row12_col0\" class=\"data row12 col0\" >0.043853</td>\n",
              "      <td id=\"T_417cf_row12_col1\" class=\"data row12 col1\" >0.000031</td>\n",
              "      <td id=\"T_417cf_row12_col2\" class=\"data row12 col2\" >It's 9:47 PM. How many minutes until 10 </td>\n",
              "      <td id=\"T_417cf_row12_col3\" class=\"data row12 col3\" >13 minutes</td>\n",
              "    </tr>\n",
              "  </tbody>\n",
              "</table>\n"
            ],
            "text/plain": [
              "<pandas.io.formats.style.Styler at 0x2dbb308b0>"
            ]
          },
          "metadata": {},
          "output_type": "display_data"
        }
      ],
      "source": [
        "attributor = OpenAIAttributor()\n",
        "logger = ExperimentLogger()\n",
        "attributor.compute_attributions(\n",
        "    \"It's 9:47 PM. How many minutes until 10?\",\n",
        "    perturbation_strategy=FixedPerturbationStrategy(\" \"),\n",
        "    attribution_strategies=[\"prob_diff\"],\n",
        "    logger=logger,\n",
        "    perturb_word_wise=False,\n",
        ")\n",
        "display(logger.df_experiments)\n",
        "logger.print_sentence_attribution()\n",
        "logger.print_attribution_matrix(exp_id=1, show_debug_cols=True)"
      ]
    },
    {
      "cell_type": "code",
      "execution_count": null,
      "metadata": {
        "id": "M4PomjjMXXfo"
      },
      "outputs": [],
      "source": []
    }
  ],
  "metadata": {
    "colab": {
      "machine_shape": "hm",
      "provenance": []
    },
    "kernelspec": {
      "display_name": "Python 3",
      "name": "python3"
    },
    "language_info": {
      "codemirror_mode": {
        "name": "ipython",
        "version": 3
      },
      "file_extension": ".py",
      "mimetype": "text/x-python",
      "name": "python",
      "nbconvert_exporter": "python",
      "pygments_lexer": "ipython3",
      "version": "3.10.14"
    }
  },
  "nbformat": 4,
  "nbformat_minor": 0
}
