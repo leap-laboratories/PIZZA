{
 "cells": [
  {
   "cell_type": "markdown",
   "metadata": {},
   "source": [
    "# Attribution Case Study: Gemma - 2B\n",
    "\n",
    "In this notebook we show how feature attribution (as calculated by our open source library!) can be used to understand model behaviour and help hypothesise reasons behind undesirable outputs. We showcase a case study using the Gemma-2B model and our gradient-based perturbation method described here. \n",
    "\n",
    "Since Gemma-2B is an open-source model, we will be downloading a local copy of it before calculating attribution values. To access Gemma-2B through huggingface, a huggingface account with approval is necessary. Please click [here](https://huggingface.co/google/gemma-2b) to go through the approval process. After approval, the huggingface account needs to be logged into using the CLI command `huggingface-cli login`.\n",
    "\n",
    "We will use our `LocalLLMAttributor` function that employs a gradient-based perturbation technique to calculate attribution values."
   ]
  },
  {
   "cell_type": "markdown",
   "metadata": {},
   "source": [
    "## Importing libraries"
   ]
  },
  {
   "cell_type": "code",
   "execution_count": 1,
   "metadata": {},
   "outputs": [
    {
     "name": "stderr",
     "output_type": "stream",
     "text": [
      "/Users/jessicarumbelow/PIZZA/.venv/lib/python3.10/site-packages/tqdm/auto.py:21: TqdmWarning: IProgress not found. Please update jupyter and ipywidgets. See https://ipywidgets.readthedocs.io/en/stable/user_install.html\n",
      "  from .autonotebook import tqdm as notebook_tqdm\n"
     ]
    }
   ],
   "source": [
    "import os\n",
    "import sys\n",
    "from pathlib import Path\n",
    "\n",
    "from transformers import AutoModelForCausalLM, AutoTokenizer\n",
    "\n",
    "sys.path.append(str(Path(os.getcwd()).parent))\n",
    "from attribution.local_attribution import LocalLLMAttributor"
   ]
  },
  {
   "cell_type": "markdown",
   "metadata": {},
   "source": [
    "## Loading Gemma-2 model, tokenizer and embeddings\n",
    "\n",
    "Make sure you've logged in using the `huggingface-cli login` command and have access to the Gemma-2B model hosted [here](https://huggingface.co/google/gemma-2b)"
   ]
  },
  {
   "cell_type": "code",
   "execution_count": 2,
   "metadata": {},
   "outputs": [
    {
     "name": "stderr",
     "output_type": "stream",
     "text": [
      "/Users/jessicarumbelow/PIZZA/.venv/lib/python3.10/site-packages/huggingface_hub/file_download.py:1132: FutureWarning: `resume_download` is deprecated and will be removed in version 1.0.0. Downloads always resume when possible. If you want to force a new download, use `force_download=True`.\n",
      "  warnings.warn(\n"
     ]
    },
    {
     "ename": "OSError",
     "evalue": "You are trying to access a gated repo.\nMake sure to have access to it at https://huggingface.co/google/gemma-2b-it.\n401 Client Error. (Request ID: Root=1-667be01b-23f90ee5313034dc40ccbe17;70bfe96f-4f6d-4ee3-b2c5-01b2953b56fb)\n\nCannot access gated repo for url https://huggingface.co/google/gemma-2b-it/resolve/main/config.json.\nAccess to model google/gemma-2b-it is restricted. You must be authenticated to access it.",
     "output_type": "error",
     "traceback": [
      "\u001b[0;31m---------------------------------------------------------------------------\u001b[0m",
      "\u001b[0;31mHTTPError\u001b[0m                                 Traceback (most recent call last)",
      "File \u001b[0;32m~/PIZZA/.venv/lib/python3.10/site-packages/huggingface_hub/utils/_errors.py:304\u001b[0m, in \u001b[0;36mhf_raise_for_status\u001b[0;34m(response, endpoint_name)\u001b[0m\n\u001b[1;32m    303\u001b[0m \u001b[38;5;28;01mtry\u001b[39;00m:\n\u001b[0;32m--> 304\u001b[0m     \u001b[43mresponse\u001b[49m\u001b[38;5;241;43m.\u001b[39;49m\u001b[43mraise_for_status\u001b[49m\u001b[43m(\u001b[49m\u001b[43m)\u001b[49m\n\u001b[1;32m    305\u001b[0m \u001b[38;5;28;01mexcept\u001b[39;00m HTTPError \u001b[38;5;28;01mas\u001b[39;00m e:\n",
      "File \u001b[0;32m~/PIZZA/.venv/lib/python3.10/site-packages/requests/models.py:1024\u001b[0m, in \u001b[0;36mResponse.raise_for_status\u001b[0;34m(self)\u001b[0m\n\u001b[1;32m   1023\u001b[0m \u001b[38;5;28;01mif\u001b[39;00m http_error_msg:\n\u001b[0;32m-> 1024\u001b[0m     \u001b[38;5;28;01mraise\u001b[39;00m HTTPError(http_error_msg, response\u001b[38;5;241m=\u001b[39m\u001b[38;5;28mself\u001b[39m)\n",
      "\u001b[0;31mHTTPError\u001b[0m: 401 Client Error: Unauthorized for url: https://huggingface.co/google/gemma-2b-it/resolve/main/config.json",
      "\nThe above exception was the direct cause of the following exception:\n",
      "\u001b[0;31mGatedRepoError\u001b[0m                            Traceback (most recent call last)",
      "File \u001b[0;32m~/PIZZA/.venv/lib/python3.10/site-packages/transformers/utils/hub.py:398\u001b[0m, in \u001b[0;36mcached_file\u001b[0;34m(path_or_repo_id, filename, cache_dir, force_download, resume_download, proxies, token, revision, local_files_only, subfolder, repo_type, user_agent, _raise_exceptions_for_gated_repo, _raise_exceptions_for_missing_entries, _raise_exceptions_for_connection_errors, _commit_hash, **deprecated_kwargs)\u001b[0m\n\u001b[1;32m    396\u001b[0m \u001b[38;5;28;01mtry\u001b[39;00m:\n\u001b[1;32m    397\u001b[0m     \u001b[38;5;66;03m# Load from URL or cache if already cached\u001b[39;00m\n\u001b[0;32m--> 398\u001b[0m     resolved_file \u001b[38;5;241m=\u001b[39m \u001b[43mhf_hub_download\u001b[49m\u001b[43m(\u001b[49m\n\u001b[1;32m    399\u001b[0m \u001b[43m        \u001b[49m\u001b[43mpath_or_repo_id\u001b[49m\u001b[43m,\u001b[49m\n\u001b[1;32m    400\u001b[0m \u001b[43m        \u001b[49m\u001b[43mfilename\u001b[49m\u001b[43m,\u001b[49m\n\u001b[1;32m    401\u001b[0m \u001b[43m        \u001b[49m\u001b[43msubfolder\u001b[49m\u001b[38;5;241;43m=\u001b[39;49m\u001b[38;5;28;43;01mNone\u001b[39;49;00m\u001b[43m \u001b[49m\u001b[38;5;28;43;01mif\u001b[39;49;00m\u001b[43m \u001b[49m\u001b[38;5;28;43mlen\u001b[39;49m\u001b[43m(\u001b[49m\u001b[43msubfolder\u001b[49m\u001b[43m)\u001b[49m\u001b[43m \u001b[49m\u001b[38;5;241;43m==\u001b[39;49m\u001b[43m \u001b[49m\u001b[38;5;241;43m0\u001b[39;49m\u001b[43m \u001b[49m\u001b[38;5;28;43;01melse\u001b[39;49;00m\u001b[43m \u001b[49m\u001b[43msubfolder\u001b[49m\u001b[43m,\u001b[49m\n\u001b[1;32m    402\u001b[0m \u001b[43m        \u001b[49m\u001b[43mrepo_type\u001b[49m\u001b[38;5;241;43m=\u001b[39;49m\u001b[43mrepo_type\u001b[49m\u001b[43m,\u001b[49m\n\u001b[1;32m    403\u001b[0m \u001b[43m        \u001b[49m\u001b[43mrevision\u001b[49m\u001b[38;5;241;43m=\u001b[39;49m\u001b[43mrevision\u001b[49m\u001b[43m,\u001b[49m\n\u001b[1;32m    404\u001b[0m \u001b[43m        \u001b[49m\u001b[43mcache_dir\u001b[49m\u001b[38;5;241;43m=\u001b[39;49m\u001b[43mcache_dir\u001b[49m\u001b[43m,\u001b[49m\n\u001b[1;32m    405\u001b[0m \u001b[43m        \u001b[49m\u001b[43muser_agent\u001b[49m\u001b[38;5;241;43m=\u001b[39;49m\u001b[43muser_agent\u001b[49m\u001b[43m,\u001b[49m\n\u001b[1;32m    406\u001b[0m \u001b[43m        \u001b[49m\u001b[43mforce_download\u001b[49m\u001b[38;5;241;43m=\u001b[39;49m\u001b[43mforce_download\u001b[49m\u001b[43m,\u001b[49m\n\u001b[1;32m    407\u001b[0m \u001b[43m        \u001b[49m\u001b[43mproxies\u001b[49m\u001b[38;5;241;43m=\u001b[39;49m\u001b[43mproxies\u001b[49m\u001b[43m,\u001b[49m\n\u001b[1;32m    408\u001b[0m \u001b[43m        \u001b[49m\u001b[43mresume_download\u001b[49m\u001b[38;5;241;43m=\u001b[39;49m\u001b[43mresume_download\u001b[49m\u001b[43m,\u001b[49m\n\u001b[1;32m    409\u001b[0m \u001b[43m        \u001b[49m\u001b[43mtoken\u001b[49m\u001b[38;5;241;43m=\u001b[39;49m\u001b[43mtoken\u001b[49m\u001b[43m,\u001b[49m\n\u001b[1;32m    410\u001b[0m \u001b[43m        \u001b[49m\u001b[43mlocal_files_only\u001b[49m\u001b[38;5;241;43m=\u001b[39;49m\u001b[43mlocal_files_only\u001b[49m\u001b[43m,\u001b[49m\n\u001b[1;32m    411\u001b[0m \u001b[43m    \u001b[49m\u001b[43m)\u001b[49m\n\u001b[1;32m    412\u001b[0m \u001b[38;5;28;01mexcept\u001b[39;00m GatedRepoError \u001b[38;5;28;01mas\u001b[39;00m e:\n",
      "File \u001b[0;32m~/PIZZA/.venv/lib/python3.10/site-packages/huggingface_hub/utils/_validators.py:114\u001b[0m, in \u001b[0;36mvalidate_hf_hub_args.<locals>._inner_fn\u001b[0;34m(*args, **kwargs)\u001b[0m\n\u001b[1;32m    112\u001b[0m     kwargs \u001b[38;5;241m=\u001b[39m smoothly_deprecate_use_auth_token(fn_name\u001b[38;5;241m=\u001b[39mfn\u001b[38;5;241m.\u001b[39m\u001b[38;5;18m__name__\u001b[39m, has_token\u001b[38;5;241m=\u001b[39mhas_token, kwargs\u001b[38;5;241m=\u001b[39mkwargs)\n\u001b[0;32m--> 114\u001b[0m \u001b[38;5;28;01mreturn\u001b[39;00m \u001b[43mfn\u001b[49m\u001b[43m(\u001b[49m\u001b[38;5;241;43m*\u001b[39;49m\u001b[43margs\u001b[49m\u001b[43m,\u001b[49m\u001b[43m \u001b[49m\u001b[38;5;241;43m*\u001b[39;49m\u001b[38;5;241;43m*\u001b[39;49m\u001b[43mkwargs\u001b[49m\u001b[43m)\u001b[49m\n",
      "File \u001b[0;32m~/PIZZA/.venv/lib/python3.10/site-packages/huggingface_hub/file_download.py:1221\u001b[0m, in \u001b[0;36mhf_hub_download\u001b[0;34m(repo_id, filename, subfolder, repo_type, revision, library_name, library_version, cache_dir, local_dir, user_agent, force_download, proxies, etag_timeout, token, local_files_only, headers, endpoint, legacy_cache_layout, resume_download, force_filename, local_dir_use_symlinks)\u001b[0m\n\u001b[1;32m   1220\u001b[0m \u001b[38;5;28;01melse\u001b[39;00m:\n\u001b[0;32m-> 1221\u001b[0m     \u001b[38;5;28;01mreturn\u001b[39;00m \u001b[43m_hf_hub_download_to_cache_dir\u001b[49m\u001b[43m(\u001b[49m\n\u001b[1;32m   1222\u001b[0m \u001b[43m        \u001b[49m\u001b[38;5;66;43;03m# Destination\u001b[39;49;00m\n\u001b[1;32m   1223\u001b[0m \u001b[43m        \u001b[49m\u001b[43mcache_dir\u001b[49m\u001b[38;5;241;43m=\u001b[39;49m\u001b[43mcache_dir\u001b[49m\u001b[43m,\u001b[49m\n\u001b[1;32m   1224\u001b[0m \u001b[43m        \u001b[49m\u001b[38;5;66;43;03m# File info\u001b[39;49;00m\n\u001b[1;32m   1225\u001b[0m \u001b[43m        \u001b[49m\u001b[43mrepo_id\u001b[49m\u001b[38;5;241;43m=\u001b[39;49m\u001b[43mrepo_id\u001b[49m\u001b[43m,\u001b[49m\n\u001b[1;32m   1226\u001b[0m \u001b[43m        \u001b[49m\u001b[43mfilename\u001b[49m\u001b[38;5;241;43m=\u001b[39;49m\u001b[43mfilename\u001b[49m\u001b[43m,\u001b[49m\n\u001b[1;32m   1227\u001b[0m \u001b[43m        \u001b[49m\u001b[43mrepo_type\u001b[49m\u001b[38;5;241;43m=\u001b[39;49m\u001b[43mrepo_type\u001b[49m\u001b[43m,\u001b[49m\n\u001b[1;32m   1228\u001b[0m \u001b[43m        \u001b[49m\u001b[43mrevision\u001b[49m\u001b[38;5;241;43m=\u001b[39;49m\u001b[43mrevision\u001b[49m\u001b[43m,\u001b[49m\n\u001b[1;32m   1229\u001b[0m \u001b[43m        \u001b[49m\u001b[38;5;66;43;03m# HTTP info\u001b[39;49;00m\n\u001b[1;32m   1230\u001b[0m \u001b[43m        \u001b[49m\u001b[43mheaders\u001b[49m\u001b[38;5;241;43m=\u001b[39;49m\u001b[43mheaders\u001b[49m\u001b[43m,\u001b[49m\n\u001b[1;32m   1231\u001b[0m \u001b[43m        \u001b[49m\u001b[43mproxies\u001b[49m\u001b[38;5;241;43m=\u001b[39;49m\u001b[43mproxies\u001b[49m\u001b[43m,\u001b[49m\n\u001b[1;32m   1232\u001b[0m \u001b[43m        \u001b[49m\u001b[43metag_timeout\u001b[49m\u001b[38;5;241;43m=\u001b[39;49m\u001b[43metag_timeout\u001b[49m\u001b[43m,\u001b[49m\n\u001b[1;32m   1233\u001b[0m \u001b[43m        \u001b[49m\u001b[43mendpoint\u001b[49m\u001b[38;5;241;43m=\u001b[39;49m\u001b[43mendpoint\u001b[49m\u001b[43m,\u001b[49m\n\u001b[1;32m   1234\u001b[0m \u001b[43m        \u001b[49m\u001b[38;5;66;43;03m# Additional options\u001b[39;49;00m\n\u001b[1;32m   1235\u001b[0m \u001b[43m        \u001b[49m\u001b[43mlocal_files_only\u001b[49m\u001b[38;5;241;43m=\u001b[39;49m\u001b[43mlocal_files_only\u001b[49m\u001b[43m,\u001b[49m\n\u001b[1;32m   1236\u001b[0m \u001b[43m        \u001b[49m\u001b[43mforce_download\u001b[49m\u001b[38;5;241;43m=\u001b[39;49m\u001b[43mforce_download\u001b[49m\u001b[43m,\u001b[49m\n\u001b[1;32m   1237\u001b[0m \u001b[43m    \u001b[49m\u001b[43m)\u001b[49m\n",
      "File \u001b[0;32m~/PIZZA/.venv/lib/python3.10/site-packages/huggingface_hub/file_download.py:1325\u001b[0m, in \u001b[0;36m_hf_hub_download_to_cache_dir\u001b[0;34m(cache_dir, repo_id, filename, repo_type, revision, headers, proxies, etag_timeout, endpoint, local_files_only, force_download)\u001b[0m\n\u001b[1;32m   1324\u001b[0m     \u001b[38;5;66;03m# Otherwise, raise appropriate error\u001b[39;00m\n\u001b[0;32m-> 1325\u001b[0m     \u001b[43m_raise_on_head_call_error\u001b[49m\u001b[43m(\u001b[49m\u001b[43mhead_call_error\u001b[49m\u001b[43m,\u001b[49m\u001b[43m \u001b[49m\u001b[43mforce_download\u001b[49m\u001b[43m,\u001b[49m\u001b[43m \u001b[49m\u001b[43mlocal_files_only\u001b[49m\u001b[43m)\u001b[49m\n\u001b[1;32m   1327\u001b[0m \u001b[38;5;66;03m# From now on, etag, commit_hash, url and size are not None.\u001b[39;00m\n",
      "File \u001b[0;32m~/PIZZA/.venv/lib/python3.10/site-packages/huggingface_hub/file_download.py:1823\u001b[0m, in \u001b[0;36m_raise_on_head_call_error\u001b[0;34m(head_call_error, force_download, local_files_only)\u001b[0m\n\u001b[1;32m   1821\u001b[0m \u001b[38;5;28;01melif\u001b[39;00m \u001b[38;5;28misinstance\u001b[39m(head_call_error, RepositoryNotFoundError) \u001b[38;5;129;01mor\u001b[39;00m \u001b[38;5;28misinstance\u001b[39m(head_call_error, GatedRepoError):\n\u001b[1;32m   1822\u001b[0m     \u001b[38;5;66;03m# Repo not found or gated => let's raise the actual error\u001b[39;00m\n\u001b[0;32m-> 1823\u001b[0m     \u001b[38;5;28;01mraise\u001b[39;00m head_call_error\n\u001b[1;32m   1824\u001b[0m \u001b[38;5;28;01melse\u001b[39;00m:\n\u001b[1;32m   1825\u001b[0m     \u001b[38;5;66;03m# Otherwise: most likely a connection issue or Hub downtime => let's warn the user\u001b[39;00m\n",
      "File \u001b[0;32m~/PIZZA/.venv/lib/python3.10/site-packages/huggingface_hub/file_download.py:1722\u001b[0m, in \u001b[0;36m_get_metadata_or_catch_error\u001b[0;34m(repo_id, filename, repo_type, revision, endpoint, proxies, etag_timeout, headers, local_files_only, relative_filename, storage_folder)\u001b[0m\n\u001b[1;32m   1721\u001b[0m \u001b[38;5;28;01mtry\u001b[39;00m:\n\u001b[0;32m-> 1722\u001b[0m     metadata \u001b[38;5;241m=\u001b[39m \u001b[43mget_hf_file_metadata\u001b[49m\u001b[43m(\u001b[49m\u001b[43murl\u001b[49m\u001b[38;5;241;43m=\u001b[39;49m\u001b[43murl\u001b[49m\u001b[43m,\u001b[49m\u001b[43m \u001b[49m\u001b[43mproxies\u001b[49m\u001b[38;5;241;43m=\u001b[39;49m\u001b[43mproxies\u001b[49m\u001b[43m,\u001b[49m\u001b[43m \u001b[49m\u001b[43mtimeout\u001b[49m\u001b[38;5;241;43m=\u001b[39;49m\u001b[43metag_timeout\u001b[49m\u001b[43m,\u001b[49m\u001b[43m \u001b[49m\u001b[43mheaders\u001b[49m\u001b[38;5;241;43m=\u001b[39;49m\u001b[43mheaders\u001b[49m\u001b[43m)\u001b[49m\n\u001b[1;32m   1723\u001b[0m \u001b[38;5;28;01mexcept\u001b[39;00m EntryNotFoundError \u001b[38;5;28;01mas\u001b[39;00m http_error:\n",
      "File \u001b[0;32m~/PIZZA/.venv/lib/python3.10/site-packages/huggingface_hub/utils/_validators.py:114\u001b[0m, in \u001b[0;36mvalidate_hf_hub_args.<locals>._inner_fn\u001b[0;34m(*args, **kwargs)\u001b[0m\n\u001b[1;32m    112\u001b[0m     kwargs \u001b[38;5;241m=\u001b[39m smoothly_deprecate_use_auth_token(fn_name\u001b[38;5;241m=\u001b[39mfn\u001b[38;5;241m.\u001b[39m\u001b[38;5;18m__name__\u001b[39m, has_token\u001b[38;5;241m=\u001b[39mhas_token, kwargs\u001b[38;5;241m=\u001b[39mkwargs)\n\u001b[0;32m--> 114\u001b[0m \u001b[38;5;28;01mreturn\u001b[39;00m \u001b[43mfn\u001b[49m\u001b[43m(\u001b[49m\u001b[38;5;241;43m*\u001b[39;49m\u001b[43margs\u001b[49m\u001b[43m,\u001b[49m\u001b[43m \u001b[49m\u001b[38;5;241;43m*\u001b[39;49m\u001b[38;5;241;43m*\u001b[39;49m\u001b[43mkwargs\u001b[49m\u001b[43m)\u001b[49m\n",
      "File \u001b[0;32m~/PIZZA/.venv/lib/python3.10/site-packages/huggingface_hub/file_download.py:1645\u001b[0m, in \u001b[0;36mget_hf_file_metadata\u001b[0;34m(url, token, proxies, timeout, library_name, library_version, user_agent, headers)\u001b[0m\n\u001b[1;32m   1644\u001b[0m \u001b[38;5;66;03m# Retrieve metadata\u001b[39;00m\n\u001b[0;32m-> 1645\u001b[0m r \u001b[38;5;241m=\u001b[39m \u001b[43m_request_wrapper\u001b[49m\u001b[43m(\u001b[49m\n\u001b[1;32m   1646\u001b[0m \u001b[43m    \u001b[49m\u001b[43mmethod\u001b[49m\u001b[38;5;241;43m=\u001b[39;49m\u001b[38;5;124;43m\"\u001b[39;49m\u001b[38;5;124;43mHEAD\u001b[39;49m\u001b[38;5;124;43m\"\u001b[39;49m\u001b[43m,\u001b[49m\n\u001b[1;32m   1647\u001b[0m \u001b[43m    \u001b[49m\u001b[43murl\u001b[49m\u001b[38;5;241;43m=\u001b[39;49m\u001b[43murl\u001b[49m\u001b[43m,\u001b[49m\n\u001b[1;32m   1648\u001b[0m \u001b[43m    \u001b[49m\u001b[43mheaders\u001b[49m\u001b[38;5;241;43m=\u001b[39;49m\u001b[43mheaders\u001b[49m\u001b[43m,\u001b[49m\n\u001b[1;32m   1649\u001b[0m \u001b[43m    \u001b[49m\u001b[43mallow_redirects\u001b[49m\u001b[38;5;241;43m=\u001b[39;49m\u001b[38;5;28;43;01mFalse\u001b[39;49;00m\u001b[43m,\u001b[49m\n\u001b[1;32m   1650\u001b[0m \u001b[43m    \u001b[49m\u001b[43mfollow_relative_redirects\u001b[49m\u001b[38;5;241;43m=\u001b[39;49m\u001b[38;5;28;43;01mTrue\u001b[39;49;00m\u001b[43m,\u001b[49m\n\u001b[1;32m   1651\u001b[0m \u001b[43m    \u001b[49m\u001b[43mproxies\u001b[49m\u001b[38;5;241;43m=\u001b[39;49m\u001b[43mproxies\u001b[49m\u001b[43m,\u001b[49m\n\u001b[1;32m   1652\u001b[0m \u001b[43m    \u001b[49m\u001b[43mtimeout\u001b[49m\u001b[38;5;241;43m=\u001b[39;49m\u001b[43mtimeout\u001b[49m\u001b[43m,\u001b[49m\n\u001b[1;32m   1653\u001b[0m \u001b[43m\u001b[49m\u001b[43m)\u001b[49m\n\u001b[1;32m   1654\u001b[0m hf_raise_for_status(r)\n",
      "File \u001b[0;32m~/PIZZA/.venv/lib/python3.10/site-packages/huggingface_hub/file_download.py:372\u001b[0m, in \u001b[0;36m_request_wrapper\u001b[0;34m(method, url, follow_relative_redirects, **params)\u001b[0m\n\u001b[1;32m    371\u001b[0m \u001b[38;5;28;01mif\u001b[39;00m follow_relative_redirects:\n\u001b[0;32m--> 372\u001b[0m     response \u001b[38;5;241m=\u001b[39m \u001b[43m_request_wrapper\u001b[49m\u001b[43m(\u001b[49m\n\u001b[1;32m    373\u001b[0m \u001b[43m        \u001b[49m\u001b[43mmethod\u001b[49m\u001b[38;5;241;43m=\u001b[39;49m\u001b[43mmethod\u001b[49m\u001b[43m,\u001b[49m\n\u001b[1;32m    374\u001b[0m \u001b[43m        \u001b[49m\u001b[43murl\u001b[49m\u001b[38;5;241;43m=\u001b[39;49m\u001b[43murl\u001b[49m\u001b[43m,\u001b[49m\n\u001b[1;32m    375\u001b[0m \u001b[43m        \u001b[49m\u001b[43mfollow_relative_redirects\u001b[49m\u001b[38;5;241;43m=\u001b[39;49m\u001b[38;5;28;43;01mFalse\u001b[39;49;00m\u001b[43m,\u001b[49m\n\u001b[1;32m    376\u001b[0m \u001b[43m        \u001b[49m\u001b[38;5;241;43m*\u001b[39;49m\u001b[38;5;241;43m*\u001b[39;49m\u001b[43mparams\u001b[49m\u001b[43m,\u001b[49m\n\u001b[1;32m    377\u001b[0m \u001b[43m    \u001b[49m\u001b[43m)\u001b[49m\n\u001b[1;32m    379\u001b[0m     \u001b[38;5;66;03m# If redirection, we redirect only relative paths.\u001b[39;00m\n\u001b[1;32m    380\u001b[0m     \u001b[38;5;66;03m# This is useful in case of a renamed repository.\u001b[39;00m\n",
      "File \u001b[0;32m~/PIZZA/.venv/lib/python3.10/site-packages/huggingface_hub/file_download.py:396\u001b[0m, in \u001b[0;36m_request_wrapper\u001b[0;34m(method, url, follow_relative_redirects, **params)\u001b[0m\n\u001b[1;32m    395\u001b[0m response \u001b[38;5;241m=\u001b[39m get_session()\u001b[38;5;241m.\u001b[39mrequest(method\u001b[38;5;241m=\u001b[39mmethod, url\u001b[38;5;241m=\u001b[39murl, \u001b[38;5;241m*\u001b[39m\u001b[38;5;241m*\u001b[39mparams)\n\u001b[0;32m--> 396\u001b[0m \u001b[43mhf_raise_for_status\u001b[49m\u001b[43m(\u001b[49m\u001b[43mresponse\u001b[49m\u001b[43m)\u001b[49m\n\u001b[1;32m    397\u001b[0m \u001b[38;5;28;01mreturn\u001b[39;00m response\n",
      "File \u001b[0;32m~/PIZZA/.venv/lib/python3.10/site-packages/huggingface_hub/utils/_errors.py:321\u001b[0m, in \u001b[0;36mhf_raise_for_status\u001b[0;34m(response, endpoint_name)\u001b[0m\n\u001b[1;32m    318\u001b[0m     message \u001b[38;5;241m=\u001b[39m (\n\u001b[1;32m    319\u001b[0m         \u001b[38;5;124mf\u001b[39m\u001b[38;5;124m\"\u001b[39m\u001b[38;5;132;01m{\u001b[39;00mresponse\u001b[38;5;241m.\u001b[39mstatus_code\u001b[38;5;132;01m}\u001b[39;00m\u001b[38;5;124m Client Error.\u001b[39m\u001b[38;5;124m\"\u001b[39m \u001b[38;5;241m+\u001b[39m \u001b[38;5;124m\"\u001b[39m\u001b[38;5;130;01m\\n\u001b[39;00m\u001b[38;5;130;01m\\n\u001b[39;00m\u001b[38;5;124m\"\u001b[39m \u001b[38;5;241m+\u001b[39m \u001b[38;5;124mf\u001b[39m\u001b[38;5;124m\"\u001b[39m\u001b[38;5;124mCannot access gated repo for url \u001b[39m\u001b[38;5;132;01m{\u001b[39;00mresponse\u001b[38;5;241m.\u001b[39murl\u001b[38;5;132;01m}\u001b[39;00m\u001b[38;5;124m.\u001b[39m\u001b[38;5;124m\"\u001b[39m\n\u001b[1;32m    320\u001b[0m     )\n\u001b[0;32m--> 321\u001b[0m     \u001b[38;5;28;01mraise\u001b[39;00m GatedRepoError(message, response) \u001b[38;5;28;01mfrom\u001b[39;00m \u001b[38;5;21;01me\u001b[39;00m\n\u001b[1;32m    323\u001b[0m \u001b[38;5;28;01melif\u001b[39;00m error_message \u001b[38;5;241m==\u001b[39m \u001b[38;5;124m\"\u001b[39m\u001b[38;5;124mAccess to this resource is disabled.\u001b[39m\u001b[38;5;124m\"\u001b[39m:\n",
      "\u001b[0;31mGatedRepoError\u001b[0m: 401 Client Error. (Request ID: Root=1-667be01b-23f90ee5313034dc40ccbe17;70bfe96f-4f6d-4ee3-b2c5-01b2953b56fb)\n\nCannot access gated repo for url https://huggingface.co/google/gemma-2b-it/resolve/main/config.json.\nAccess to model google/gemma-2b-it is restricted. You must be authenticated to access it.",
      "\nThe above exception was the direct cause of the following exception:\n",
      "\u001b[0;31mOSError\u001b[0m                                   Traceback (most recent call last)",
      "Cell \u001b[0;32mIn[2], line 2\u001b[0m\n\u001b[1;32m      1\u001b[0m model_id \u001b[38;5;241m=\u001b[39m \u001b[38;5;124m\"\u001b[39m\u001b[38;5;124mgoogle/gemma-2b-it\u001b[39m\u001b[38;5;124m\"\u001b[39m\n\u001b[0;32m----> 2\u001b[0m model \u001b[38;5;241m=\u001b[39m \u001b[43mAutoModelForCausalLM\u001b[49m\u001b[38;5;241;43m.\u001b[39;49m\u001b[43mfrom_pretrained\u001b[49m\u001b[43m(\u001b[49m\u001b[43mmodel_id\u001b[49m\u001b[43m,\u001b[49m\u001b[43m \u001b[49m\u001b[43mdevice_map\u001b[49m\u001b[38;5;241;43m=\u001b[39;49m\u001b[38;5;124;43m\"\u001b[39;49m\u001b[38;5;124;43mauto\u001b[39;49m\u001b[38;5;124;43m\"\u001b[39;49m\u001b[43m)\u001b[49m\u001b[38;5;241m.\u001b[39mcuda()\n\u001b[1;32m      3\u001b[0m tokenizer \u001b[38;5;241m=\u001b[39m AutoTokenizer\u001b[38;5;241m.\u001b[39mfrom_pretrained(model_id)\n\u001b[1;32m      4\u001b[0m embeddings \u001b[38;5;241m=\u001b[39m model\u001b[38;5;241m.\u001b[39mget_input_embeddings()\u001b[38;5;241m.\u001b[39mweight\u001b[38;5;241m.\u001b[39mdetach()\n",
      "File \u001b[0;32m~/PIZZA/.venv/lib/python3.10/site-packages/transformers/models/auto/auto_factory.py:523\u001b[0m, in \u001b[0;36m_BaseAutoModelClass.from_pretrained\u001b[0;34m(cls, pretrained_model_name_or_path, *model_args, **kwargs)\u001b[0m\n\u001b[1;32m    520\u001b[0m \u001b[38;5;28;01mif\u001b[39;00m kwargs\u001b[38;5;241m.\u001b[39mget(\u001b[38;5;124m\"\u001b[39m\u001b[38;5;124mquantization_config\u001b[39m\u001b[38;5;124m\"\u001b[39m, \u001b[38;5;28;01mNone\u001b[39;00m) \u001b[38;5;129;01mis\u001b[39;00m \u001b[38;5;129;01mnot\u001b[39;00m \u001b[38;5;28;01mNone\u001b[39;00m:\n\u001b[1;32m    521\u001b[0m     _ \u001b[38;5;241m=\u001b[39m kwargs\u001b[38;5;241m.\u001b[39mpop(\u001b[38;5;124m\"\u001b[39m\u001b[38;5;124mquantization_config\u001b[39m\u001b[38;5;124m\"\u001b[39m)\n\u001b[0;32m--> 523\u001b[0m config, kwargs \u001b[38;5;241m=\u001b[39m \u001b[43mAutoConfig\u001b[49m\u001b[38;5;241;43m.\u001b[39;49m\u001b[43mfrom_pretrained\u001b[49m\u001b[43m(\u001b[49m\n\u001b[1;32m    524\u001b[0m \u001b[43m    \u001b[49m\u001b[43mpretrained_model_name_or_path\u001b[49m\u001b[43m,\u001b[49m\n\u001b[1;32m    525\u001b[0m \u001b[43m    \u001b[49m\u001b[43mreturn_unused_kwargs\u001b[49m\u001b[38;5;241;43m=\u001b[39;49m\u001b[38;5;28;43;01mTrue\u001b[39;49;00m\u001b[43m,\u001b[49m\n\u001b[1;32m    526\u001b[0m \u001b[43m    \u001b[49m\u001b[43mtrust_remote_code\u001b[49m\u001b[38;5;241;43m=\u001b[39;49m\u001b[43mtrust_remote_code\u001b[49m\u001b[43m,\u001b[49m\n\u001b[1;32m    527\u001b[0m \u001b[43m    \u001b[49m\u001b[43mcode_revision\u001b[49m\u001b[38;5;241;43m=\u001b[39;49m\u001b[43mcode_revision\u001b[49m\u001b[43m,\u001b[49m\n\u001b[1;32m    528\u001b[0m \u001b[43m    \u001b[49m\u001b[43m_commit_hash\u001b[49m\u001b[38;5;241;43m=\u001b[39;49m\u001b[43mcommit_hash\u001b[49m\u001b[43m,\u001b[49m\n\u001b[1;32m    529\u001b[0m \u001b[43m    \u001b[49m\u001b[38;5;241;43m*\u001b[39;49m\u001b[38;5;241;43m*\u001b[39;49m\u001b[43mhub_kwargs\u001b[49m\u001b[43m,\u001b[49m\n\u001b[1;32m    530\u001b[0m \u001b[43m    \u001b[49m\u001b[38;5;241;43m*\u001b[39;49m\u001b[38;5;241;43m*\u001b[39;49m\u001b[43mkwargs\u001b[49m\u001b[43m,\u001b[49m\n\u001b[1;32m    531\u001b[0m \u001b[43m\u001b[49m\u001b[43m)\u001b[49m\n\u001b[1;32m    533\u001b[0m \u001b[38;5;66;03m# if torch_dtype=auto was passed here, ensure to pass it on\u001b[39;00m\n\u001b[1;32m    534\u001b[0m \u001b[38;5;28;01mif\u001b[39;00m kwargs_orig\u001b[38;5;241m.\u001b[39mget(\u001b[38;5;124m\"\u001b[39m\u001b[38;5;124mtorch_dtype\u001b[39m\u001b[38;5;124m\"\u001b[39m, \u001b[38;5;28;01mNone\u001b[39;00m) \u001b[38;5;241m==\u001b[39m \u001b[38;5;124m\"\u001b[39m\u001b[38;5;124mauto\u001b[39m\u001b[38;5;124m\"\u001b[39m:\n",
      "File \u001b[0;32m~/PIZZA/.venv/lib/python3.10/site-packages/transformers/models/auto/configuration_auto.py:1138\u001b[0m, in \u001b[0;36mAutoConfig.from_pretrained\u001b[0;34m(cls, pretrained_model_name_or_path, **kwargs)\u001b[0m\n\u001b[1;32m   1135\u001b[0m trust_remote_code \u001b[38;5;241m=\u001b[39m kwargs\u001b[38;5;241m.\u001b[39mpop(\u001b[38;5;124m\"\u001b[39m\u001b[38;5;124mtrust_remote_code\u001b[39m\u001b[38;5;124m\"\u001b[39m, \u001b[38;5;28;01mNone\u001b[39;00m)\n\u001b[1;32m   1136\u001b[0m code_revision \u001b[38;5;241m=\u001b[39m kwargs\u001b[38;5;241m.\u001b[39mpop(\u001b[38;5;124m\"\u001b[39m\u001b[38;5;124mcode_revision\u001b[39m\u001b[38;5;124m\"\u001b[39m, \u001b[38;5;28;01mNone\u001b[39;00m)\n\u001b[0;32m-> 1138\u001b[0m config_dict, unused_kwargs \u001b[38;5;241m=\u001b[39m \u001b[43mPretrainedConfig\u001b[49m\u001b[38;5;241;43m.\u001b[39;49m\u001b[43mget_config_dict\u001b[49m\u001b[43m(\u001b[49m\u001b[43mpretrained_model_name_or_path\u001b[49m\u001b[43m,\u001b[49m\u001b[43m \u001b[49m\u001b[38;5;241;43m*\u001b[39;49m\u001b[38;5;241;43m*\u001b[39;49m\u001b[43mkwargs\u001b[49m\u001b[43m)\u001b[49m\n\u001b[1;32m   1139\u001b[0m has_remote_code \u001b[38;5;241m=\u001b[39m \u001b[38;5;124m\"\u001b[39m\u001b[38;5;124mauto_map\u001b[39m\u001b[38;5;124m\"\u001b[39m \u001b[38;5;129;01min\u001b[39;00m config_dict \u001b[38;5;129;01mand\u001b[39;00m \u001b[38;5;124m\"\u001b[39m\u001b[38;5;124mAutoConfig\u001b[39m\u001b[38;5;124m\"\u001b[39m \u001b[38;5;129;01min\u001b[39;00m config_dict[\u001b[38;5;124m\"\u001b[39m\u001b[38;5;124mauto_map\u001b[39m\u001b[38;5;124m\"\u001b[39m]\n\u001b[1;32m   1140\u001b[0m has_local_code \u001b[38;5;241m=\u001b[39m \u001b[38;5;124m\"\u001b[39m\u001b[38;5;124mmodel_type\u001b[39m\u001b[38;5;124m\"\u001b[39m \u001b[38;5;129;01min\u001b[39;00m config_dict \u001b[38;5;129;01mand\u001b[39;00m config_dict[\u001b[38;5;124m\"\u001b[39m\u001b[38;5;124mmodel_type\u001b[39m\u001b[38;5;124m\"\u001b[39m] \u001b[38;5;129;01min\u001b[39;00m CONFIG_MAPPING\n",
      "File \u001b[0;32m~/PIZZA/.venv/lib/python3.10/site-packages/transformers/configuration_utils.py:631\u001b[0m, in \u001b[0;36mPretrainedConfig.get_config_dict\u001b[0;34m(cls, pretrained_model_name_or_path, **kwargs)\u001b[0m\n\u001b[1;32m    629\u001b[0m original_kwargs \u001b[38;5;241m=\u001b[39m copy\u001b[38;5;241m.\u001b[39mdeepcopy(kwargs)\n\u001b[1;32m    630\u001b[0m \u001b[38;5;66;03m# Get config dict associated with the base config file\u001b[39;00m\n\u001b[0;32m--> 631\u001b[0m config_dict, kwargs \u001b[38;5;241m=\u001b[39m \u001b[38;5;28;43mcls\u001b[39;49m\u001b[38;5;241;43m.\u001b[39;49m\u001b[43m_get_config_dict\u001b[49m\u001b[43m(\u001b[49m\u001b[43mpretrained_model_name_or_path\u001b[49m\u001b[43m,\u001b[49m\u001b[43m \u001b[49m\u001b[38;5;241;43m*\u001b[39;49m\u001b[38;5;241;43m*\u001b[39;49m\u001b[43mkwargs\u001b[49m\u001b[43m)\u001b[49m\n\u001b[1;32m    632\u001b[0m \u001b[38;5;28;01mif\u001b[39;00m \u001b[38;5;124m\"\u001b[39m\u001b[38;5;124m_commit_hash\u001b[39m\u001b[38;5;124m\"\u001b[39m \u001b[38;5;129;01min\u001b[39;00m config_dict:\n\u001b[1;32m    633\u001b[0m     original_kwargs[\u001b[38;5;124m\"\u001b[39m\u001b[38;5;124m_commit_hash\u001b[39m\u001b[38;5;124m\"\u001b[39m] \u001b[38;5;241m=\u001b[39m config_dict[\u001b[38;5;124m\"\u001b[39m\u001b[38;5;124m_commit_hash\u001b[39m\u001b[38;5;124m\"\u001b[39m]\n",
      "File \u001b[0;32m~/PIZZA/.venv/lib/python3.10/site-packages/transformers/configuration_utils.py:686\u001b[0m, in \u001b[0;36mPretrainedConfig._get_config_dict\u001b[0;34m(cls, pretrained_model_name_or_path, **kwargs)\u001b[0m\n\u001b[1;32m    682\u001b[0m configuration_file \u001b[38;5;241m=\u001b[39m kwargs\u001b[38;5;241m.\u001b[39mpop(\u001b[38;5;124m\"\u001b[39m\u001b[38;5;124m_configuration_file\u001b[39m\u001b[38;5;124m\"\u001b[39m, CONFIG_NAME)\n\u001b[1;32m    684\u001b[0m \u001b[38;5;28;01mtry\u001b[39;00m:\n\u001b[1;32m    685\u001b[0m     \u001b[38;5;66;03m# Load from local folder or from cache or download from model Hub and cache\u001b[39;00m\n\u001b[0;32m--> 686\u001b[0m     resolved_config_file \u001b[38;5;241m=\u001b[39m \u001b[43mcached_file\u001b[49m\u001b[43m(\u001b[49m\n\u001b[1;32m    687\u001b[0m \u001b[43m        \u001b[49m\u001b[43mpretrained_model_name_or_path\u001b[49m\u001b[43m,\u001b[49m\n\u001b[1;32m    688\u001b[0m \u001b[43m        \u001b[49m\u001b[43mconfiguration_file\u001b[49m\u001b[43m,\u001b[49m\n\u001b[1;32m    689\u001b[0m \u001b[43m        \u001b[49m\u001b[43mcache_dir\u001b[49m\u001b[38;5;241;43m=\u001b[39;49m\u001b[43mcache_dir\u001b[49m\u001b[43m,\u001b[49m\n\u001b[1;32m    690\u001b[0m \u001b[43m        \u001b[49m\u001b[43mforce_download\u001b[49m\u001b[38;5;241;43m=\u001b[39;49m\u001b[43mforce_download\u001b[49m\u001b[43m,\u001b[49m\n\u001b[1;32m    691\u001b[0m \u001b[43m        \u001b[49m\u001b[43mproxies\u001b[49m\u001b[38;5;241;43m=\u001b[39;49m\u001b[43mproxies\u001b[49m\u001b[43m,\u001b[49m\n\u001b[1;32m    692\u001b[0m \u001b[43m        \u001b[49m\u001b[43mresume_download\u001b[49m\u001b[38;5;241;43m=\u001b[39;49m\u001b[43mresume_download\u001b[49m\u001b[43m,\u001b[49m\n\u001b[1;32m    693\u001b[0m \u001b[43m        \u001b[49m\u001b[43mlocal_files_only\u001b[49m\u001b[38;5;241;43m=\u001b[39;49m\u001b[43mlocal_files_only\u001b[49m\u001b[43m,\u001b[49m\n\u001b[1;32m    694\u001b[0m \u001b[43m        \u001b[49m\u001b[43mtoken\u001b[49m\u001b[38;5;241;43m=\u001b[39;49m\u001b[43mtoken\u001b[49m\u001b[43m,\u001b[49m\n\u001b[1;32m    695\u001b[0m \u001b[43m        \u001b[49m\u001b[43muser_agent\u001b[49m\u001b[38;5;241;43m=\u001b[39;49m\u001b[43muser_agent\u001b[49m\u001b[43m,\u001b[49m\n\u001b[1;32m    696\u001b[0m \u001b[43m        \u001b[49m\u001b[43mrevision\u001b[49m\u001b[38;5;241;43m=\u001b[39;49m\u001b[43mrevision\u001b[49m\u001b[43m,\u001b[49m\n\u001b[1;32m    697\u001b[0m \u001b[43m        \u001b[49m\u001b[43msubfolder\u001b[49m\u001b[38;5;241;43m=\u001b[39;49m\u001b[43msubfolder\u001b[49m\u001b[43m,\u001b[49m\n\u001b[1;32m    698\u001b[0m \u001b[43m        \u001b[49m\u001b[43m_commit_hash\u001b[49m\u001b[38;5;241;43m=\u001b[39;49m\u001b[43mcommit_hash\u001b[49m\u001b[43m,\u001b[49m\n\u001b[1;32m    699\u001b[0m \u001b[43m    \u001b[49m\u001b[43m)\u001b[49m\n\u001b[1;32m    700\u001b[0m     commit_hash \u001b[38;5;241m=\u001b[39m extract_commit_hash(resolved_config_file, commit_hash)\n\u001b[1;32m    701\u001b[0m \u001b[38;5;28;01mexcept\u001b[39;00m \u001b[38;5;167;01mEnvironmentError\u001b[39;00m:\n\u001b[1;32m    702\u001b[0m     \u001b[38;5;66;03m# Raise any environment error raise by `cached_file`. It will have a helpful error message adapted to\u001b[39;00m\n\u001b[1;32m    703\u001b[0m     \u001b[38;5;66;03m# the original exception.\u001b[39;00m\n",
      "File \u001b[0;32m~/PIZZA/.venv/lib/python3.10/site-packages/transformers/utils/hub.py:416\u001b[0m, in \u001b[0;36mcached_file\u001b[0;34m(path_or_repo_id, filename, cache_dir, force_download, resume_download, proxies, token, revision, local_files_only, subfolder, repo_type, user_agent, _raise_exceptions_for_gated_repo, _raise_exceptions_for_missing_entries, _raise_exceptions_for_connection_errors, _commit_hash, **deprecated_kwargs)\u001b[0m\n\u001b[1;32m    414\u001b[0m     \u001b[38;5;28;01mif\u001b[39;00m resolved_file \u001b[38;5;129;01mis\u001b[39;00m \u001b[38;5;129;01mnot\u001b[39;00m \u001b[38;5;28;01mNone\u001b[39;00m \u001b[38;5;129;01mor\u001b[39;00m \u001b[38;5;129;01mnot\u001b[39;00m _raise_exceptions_for_gated_repo:\n\u001b[1;32m    415\u001b[0m         \u001b[38;5;28;01mreturn\u001b[39;00m resolved_file\n\u001b[0;32m--> 416\u001b[0m     \u001b[38;5;28;01mraise\u001b[39;00m \u001b[38;5;167;01mEnvironmentError\u001b[39;00m(\n\u001b[1;32m    417\u001b[0m         \u001b[38;5;124m\"\u001b[39m\u001b[38;5;124mYou are trying to access a gated repo.\u001b[39m\u001b[38;5;130;01m\\n\u001b[39;00m\u001b[38;5;124mMake sure to have access to it at \u001b[39m\u001b[38;5;124m\"\u001b[39m\n\u001b[1;32m    418\u001b[0m         \u001b[38;5;124mf\u001b[39m\u001b[38;5;124m\"\u001b[39m\u001b[38;5;124mhttps://huggingface.co/\u001b[39m\u001b[38;5;132;01m{\u001b[39;00mpath_or_repo_id\u001b[38;5;132;01m}\u001b[39;00m\u001b[38;5;124m.\u001b[39m\u001b[38;5;130;01m\\n\u001b[39;00m\u001b[38;5;132;01m{\u001b[39;00m\u001b[38;5;28mstr\u001b[39m(e)\u001b[38;5;132;01m}\u001b[39;00m\u001b[38;5;124m\"\u001b[39m\n\u001b[1;32m    419\u001b[0m     ) \u001b[38;5;28;01mfrom\u001b[39;00m \u001b[38;5;21;01me\u001b[39;00m\n\u001b[1;32m    420\u001b[0m \u001b[38;5;28;01mexcept\u001b[39;00m RepositoryNotFoundError \u001b[38;5;28;01mas\u001b[39;00m e:\n\u001b[1;32m    421\u001b[0m     \u001b[38;5;28;01mraise\u001b[39;00m \u001b[38;5;167;01mEnvironmentError\u001b[39;00m(\n\u001b[1;32m    422\u001b[0m         \u001b[38;5;124mf\u001b[39m\u001b[38;5;124m\"\u001b[39m\u001b[38;5;132;01m{\u001b[39;00mpath_or_repo_id\u001b[38;5;132;01m}\u001b[39;00m\u001b[38;5;124m is not a local folder and is not a valid model identifier \u001b[39m\u001b[38;5;124m\"\u001b[39m\n\u001b[1;32m    423\u001b[0m         \u001b[38;5;124m\"\u001b[39m\u001b[38;5;124mlisted on \u001b[39m\u001b[38;5;124m'\u001b[39m\u001b[38;5;124mhttps://huggingface.co/models\u001b[39m\u001b[38;5;124m'\u001b[39m\u001b[38;5;130;01m\\n\u001b[39;00m\u001b[38;5;124mIf this is a private repository, make sure to pass a token \u001b[39m\u001b[38;5;124m\"\u001b[39m\n\u001b[1;32m    424\u001b[0m         \u001b[38;5;124m\"\u001b[39m\u001b[38;5;124mhaving permission to this repo either by logging in with `huggingface-cli login` or by passing \u001b[39m\u001b[38;5;124m\"\u001b[39m\n\u001b[1;32m    425\u001b[0m         \u001b[38;5;124m\"\u001b[39m\u001b[38;5;124m`token=<your_token>`\u001b[39m\u001b[38;5;124m\"\u001b[39m\n\u001b[1;32m    426\u001b[0m     ) \u001b[38;5;28;01mfrom\u001b[39;00m \u001b[38;5;21;01me\u001b[39;00m\n",
      "\u001b[0;31mOSError\u001b[0m: You are trying to access a gated repo.\nMake sure to have access to it at https://huggingface.co/google/gemma-2b-it.\n401 Client Error. (Request ID: Root=1-667be01b-23f90ee5313034dc40ccbe17;70bfe96f-4f6d-4ee3-b2c5-01b2953b56fb)\n\nCannot access gated repo for url https://huggingface.co/google/gemma-2b-it/resolve/main/config.json.\nAccess to model google/gemma-2b-it is restricted. You must be authenticated to access it."
     ]
    }
   ],
   "source": [
    "model_id = \"google/gemma-2b-it\"\n",
    "model = AutoModelForCausalLM.from_pretrained(model_id, device_map=\"auto\").cuda()\n",
    "tokenizer = AutoTokenizer.from_pretrained(model_id)\n",
    "embeddings = model.get_input_embeddings().weight.detach()"
   ]
  },
  {
   "cell_type": "markdown",
   "metadata": {},
   "source": [
    "## Scenario 1: Apples to Apples\n",
    "\n",
    "We ask Gemma-2B a simple question: 'Sam has 3 apples and Tom has 5 oranges. How many apples does Sam have?'. Gemma-2B correctly answers this question"
   ]
  },
  {
   "cell_type": "code",
   "execution_count": null,
   "metadata": {},
   "outputs": [
    {
     "name": "stdout",
     "output_type": "stream",
     "text": [
      "Output: <bos>Sam has 3 apples and Tom has 5 oranges. How many apples does Sam have?\n",
      "\n",
      "The answer is 3.\n"
     ]
    }
   ],
   "source": [
    "input_string = \"Sam has 3 apples and Tom has 5 oranges. How many apples does Sam have?\"\n",
    "input_tokens = tokenizer(input_string, return_tensors=\"pt\").input_ids.to(model.device)\n",
    "output_tokens = model.generate(input_tokens, max_new_tokens=7).squeeze(0)\n",
    "print(f\"Output: {tokenizer.decode(output_tokens)}\")"
   ]
  },
  {
   "cell_type": "markdown",
   "metadata": {},
   "source": [
    "## Scenario 2: Apples to Oranges?\n",
    "\n",
    "We now slightly change the question to be: 'Sam has 3 apples and Tom has 5 oranges. How many oranges does Sam have?'. Gemma-2B gets this question wrong this time around, choosing to answer 5 oranges even though these oranges belong to Tom! "
   ]
  },
  {
   "cell_type": "code",
   "execution_count": null,
   "metadata": {},
   "outputs": [
    {
     "name": "stdout",
     "output_type": "stream",
     "text": [
      "Output: <bos>Sam has 3 apples and Tom has 5 oranges. How many oranges does Sam have?\n",
      "\n",
      "The answer is 5.\n"
     ]
    }
   ],
   "source": [
    "input_string = \"Sam has 3 apples and Tom has 5 oranges. How many oranges does Sam have?\"\n",
    "input_tokens = tokenizer(input_string, return_tensors=\"pt\").input_ids.to(model.device)\n",
    "output_tokens = model.generate(input_tokens, max_new_tokens=7).squeeze(0)\n",
    "print(f\"Output: {tokenizer.decode(output_tokens)}\")"
   ]
  },
  {
   "cell_type": "markdown",
   "metadata": {},
   "source": [
    "## Observing Attribution values\n",
    "\n",
    "Could we have predicted this behaviour if we observed the attribution values for Scenario 1? Let's take a look!"
   ]
  },
  {
   "cell_type": "code",
   "execution_count": null,
   "metadata": {},
   "outputs": [
    {
     "data": {
      "text/html": [
       "<pre style=\"white-space:pre;overflow-x:auto;line-height:normal;font-family:Menlo,'DejaVu Sans Mono',consolas,'Courier New',monospace\">\n",
       "\n",
       "</pre>\n"
      ],
      "text/plain": [
       "\n",
       "\n"
      ]
     },
     "metadata": {},
     "output_type": "display_data"
    },
    {
     "data": {
      "text/html": [
       "<pre style=\"white-space:pre;overflow-x:auto;line-height:normal;font-family:Menlo,'DejaVu Sans Mono',consolas,'Courier New',monospace\">&lt;bos&gt;Sam▁has▁3▁apples▁and▁John▁has▁5▁oranges.▁How▁many▁apples▁does▁Sam▁have?\n",
       "\n",
       "<span style=\"color: #000080; text-decoration-color: #000080\">The▁answer▁is▁3.</span>\n",
       "</pre>\n"
      ],
      "text/plain": [
       "<bos>Sam▁has▁3▁apples▁and▁John▁has▁5▁oranges.▁How▁many▁apples▁does▁Sam▁have?\n",
       "\n",
       "\u001b[34mThe\u001b[0m\u001b[34m▁answer\u001b[0m\u001b[34m▁is\u001b[0m\u001b[34m▁\u001b[0m\u001b[34m3\u001b[0m\u001b[34m.\u001b[0m\n"
      ]
     },
     "metadata": {},
     "output_type": "display_data"
    },
    {
     "data": {
      "text/html": [
       "<pre style=\"white-space:pre;overflow-x:auto;line-height:normal;font-family:Menlo,'DejaVu Sans Mono',consolas,'Courier New',monospace\">                                                                                      \n",
       " <span style=\"font-weight: bold\">          </span> <span style=\"font-weight: bold\">        </span> <span style=\"font-weight: bold\">          </span> <span style=\"font-weight: bold\">         </span> <span style=\"font-weight: bold\">          </span> <span style=\"font-weight: bold\">          </span> <span style=\"font-weight: bold\">          </span> <span style=\"font-weight: bold\">          </span> \n",
       " <span style=\"font-weight: bold\">          </span> <span style=\"font-weight: bold\">        </span> <span style=\"font-weight: bold\">          </span> <span style=\"font-weight: bold\">         </span> <span style=\"font-weight: bold\">          </span> <span style=\"font-weight: bold\">          </span> <span style=\"font-weight: bold\">          </span> <span style=\"font-weight: bold\">          </span> \n",
       " <span style=\"font-weight: bold\">          </span> <span style=\"font-weight: bold\">        </span> <span style=\"font-weight: bold\">      The </span> <span style=\"font-weight: bold\"> ▁answer </span> <span style=\"font-weight: bold\">      ▁is </span> <span style=\"font-weight: bold\">        ▁ </span> <span style=\"font-weight: bold\">        3 </span> <span style=\"font-weight: bold\">        . </span> \n",
       " ──────────────────────────────────────────────────────────────────────────────────── \n",
       "  &lt;bos&gt;      <span style=\"color: #008000; text-decoration-color: #008000\">0.7480</span>   <span style=\"color: #800000; text-decoration-color: #800000\">827.3525</span>    <span style=\"color: #008000; text-decoration-color: #008000\">2.4268</span>   <span style=\"color: #808000; text-decoration-color: #808000\">231.6353</span>   <span style=\"color: #800000; text-decoration-color: #800000\">551.3010</span>   <span style=\"color: #800000; text-decoration-color: #800000\">460.8656</span>   <span style=\"color: #800000; text-decoration-color: #800000\">488.2078</span>  \n",
       "  Sam        <span style=\"color: #008000; text-decoration-color: #008000\">0.1883</span>   <span style=\"color: #008000; text-decoration-color: #008000\">185.5456</span>    <span style=\"color: #008000; text-decoration-color: #008000\">1.8554</span>    <span style=\"color: #008000; text-decoration-color: #008000\">38.9216</span>   <span style=\"color: #008000; text-decoration-color: #008000\">104.9274</span>    <span style=\"color: #008000; text-decoration-color: #008000\">24.2310</span>   <span style=\"color: #008000; text-decoration-color: #008000\">122.5083</span>  \n",
       "  ▁has       <span style=\"color: #008000; text-decoration-color: #008000\">0.0620</span>    <span style=\"color: #008000; text-decoration-color: #008000\">57.6189</span>    <span style=\"color: #008000; text-decoration-color: #008000\">0.4312</span>     <span style=\"color: #008000; text-decoration-color: #008000\">8.8093</span>    <span style=\"color: #008000; text-decoration-color: #008000\">41.0717</span>    <span style=\"color: #008000; text-decoration-color: #008000\">38.5860</span>    <span style=\"color: #008000; text-decoration-color: #008000\">33.7193</span>  \n",
       "  ▁          <span style=\"color: #008000; text-decoration-color: #008000\">0.0340</span>    <span style=\"color: #008000; text-decoration-color: #008000\">26.2205</span>    <span style=\"color: #008000; text-decoration-color: #008000\">0.2369</span>     <span style=\"color: #008000; text-decoration-color: #008000\">4.0255</span>    <span style=\"color: #008000; text-decoration-color: #008000\">24.5529</span>    <span style=\"color: #008000; text-decoration-color: #008000\">27.5611</span>    <span style=\"color: #008000; text-decoration-color: #008000\">18.0878</span>  \n",
       "  3          <span style=\"color: #008000; text-decoration-color: #008000\">0.0337</span>    <span style=\"color: #008000; text-decoration-color: #008000\">28.9997</span>    <span style=\"color: #008000; text-decoration-color: #008000\">0.2823</span>     <span style=\"color: #008000; text-decoration-color: #008000\">5.0299</span>    <span style=\"color: #008000; text-decoration-color: #008000\">29.9640</span>    <span style=\"color: #008000; text-decoration-color: #008000\">59.1844</span>    <span style=\"color: #008000; text-decoration-color: #008000\">32.6388</span>  \n",
       "  ▁apples    <span style=\"color: #008000; text-decoration-color: #008000\">0.0632</span>    <span style=\"color: #008000; text-decoration-color: #008000\">66.3430</span>    <span style=\"color: #008000; text-decoration-color: #008000\">0.4825</span>     <span style=\"color: #008000; text-decoration-color: #008000\">9.2379</span>    <span style=\"color: #008000; text-decoration-color: #008000\">43.1779</span>    <span style=\"color: #008000; text-decoration-color: #008000\">48.0342</span>    <span style=\"color: #008000; text-decoration-color: #008000\">40.1680</span>  \n",
       "  ▁and       <span style=\"color: #008000; text-decoration-color: #008000\">0.0410</span>    <span style=\"color: #008000; text-decoration-color: #008000\">35.8075</span>    <span style=\"color: #008000; text-decoration-color: #008000\">0.3035</span>     <span style=\"color: #008000; text-decoration-color: #008000\">5.8184</span>    <span style=\"color: #008000; text-decoration-color: #008000\">28.4838</span>    <span style=\"color: #008000; text-decoration-color: #008000\">29.5762</span>    <span style=\"color: #008000; text-decoration-color: #008000\">19.1980</span>  \n",
       "  ▁John      <span style=\"color: #008000; text-decoration-color: #008000\">0.0550</span>    <span style=\"color: #008000; text-decoration-color: #008000\">36.0833</span>    <span style=\"color: #008000; text-decoration-color: #008000\">0.4106</span>     <span style=\"color: #008000; text-decoration-color: #008000\">7.2349</span>    <span style=\"color: #008000; text-decoration-color: #008000\">24.1436</span>    <span style=\"color: #008000; text-decoration-color: #008000\">21.1167</span>    <span style=\"color: #008000; text-decoration-color: #008000\">19.9228</span>  \n",
       "  ▁has       <span style=\"color: #008000; text-decoration-color: #008000\">0.0457</span>    <span style=\"color: #008000; text-decoration-color: #008000\">33.2646</span>    <span style=\"color: #008000; text-decoration-color: #008000\">0.3197</span>     <span style=\"color: #008000; text-decoration-color: #008000\">6.0864</span>    <span style=\"color: #008000; text-decoration-color: #008000\">27.5308</span>    <span style=\"color: #008000; text-decoration-color: #008000\">27.2985</span>    <span style=\"color: #008000; text-decoration-color: #008000\">20.2047</span>  \n",
       "  ▁          <span style=\"color: #008000; text-decoration-color: #008000\">0.0342</span>    <span style=\"color: #008000; text-decoration-color: #008000\">18.9863</span>    <span style=\"color: #008000; text-decoration-color: #008000\">0.2035</span>     <span style=\"color: #008000; text-decoration-color: #008000\">3.3157</span>    <span style=\"color: #008000; text-decoration-color: #008000\">20.6291</span>    <span style=\"color: #008000; text-decoration-color: #008000\">17.4662</span>    <span style=\"color: #008000; text-decoration-color: #008000\">14.2829</span>  \n",
       "  5          <span style=\"color: #008000; text-decoration-color: #008000\">0.0317</span>    <span style=\"color: #008000; text-decoration-color: #008000\">25.6511</span>    <span style=\"color: #008000; text-decoration-color: #008000\">0.2331</span>     <span style=\"color: #008000; text-decoration-color: #008000\">3.8841</span>    <span style=\"color: #008000; text-decoration-color: #008000\">17.9062</span>    <span style=\"color: #008000; text-decoration-color: #008000\">18.8697</span>    <span style=\"color: #008000; text-decoration-color: #008000\">20.8133</span>  \n",
       "  ▁oranges   <span style=\"color: #008000; text-decoration-color: #008000\">0.0598</span>    <span style=\"color: #008000; text-decoration-color: #008000\">44.3548</span>    <span style=\"color: #008000; text-decoration-color: #008000\">0.3668</span>     <span style=\"color: #008000; text-decoration-color: #008000\">6.8322</span>    <span style=\"color: #008000; text-decoration-color: #008000\">33.3165</span>    <span style=\"color: #008000; text-decoration-color: #008000\">41.9764</span>    <span style=\"color: #008000; text-decoration-color: #008000\">27.7359</span>  \n",
       "  .          <span style=\"color: #008000; text-decoration-color: #008000\">0.0435</span>    <span style=\"color: #008000; text-decoration-color: #008000\">32.0238</span>    <span style=\"color: #008000; text-decoration-color: #008000\">0.3410</span>     <span style=\"color: #008000; text-decoration-color: #008000\">6.2816</span>    <span style=\"color: #008000; text-decoration-color: #008000\">24.9733</span>    <span style=\"color: #008000; text-decoration-color: #008000\">17.1649</span>    <span style=\"color: #008000; text-decoration-color: #008000\">18.4730</span>  \n",
       "  ▁How       <span style=\"color: #008000; text-decoration-color: #008000\">0.0459</span>    <span style=\"color: #008000; text-decoration-color: #008000\">36.6674</span>    <span style=\"color: #008000; text-decoration-color: #008000\">0.3877</span>     <span style=\"color: #008000; text-decoration-color: #008000\">7.0877</span>    <span style=\"color: #008000; text-decoration-color: #008000\">29.7497</span>    <span style=\"color: #008000; text-decoration-color: #008000\">22.6589</span>    <span style=\"color: #008000; text-decoration-color: #008000\">22.1241</span>  \n",
       "  ▁many      <span style=\"color: #008000; text-decoration-color: #008000\">0.0470</span>    <span style=\"color: #008000; text-decoration-color: #008000\">36.2684</span>    <span style=\"color: #008000; text-decoration-color: #008000\">0.3264</span>     <span style=\"color: #008000; text-decoration-color: #008000\">6.4464</span>    <span style=\"color: #008000; text-decoration-color: #008000\">33.1295</span>    <span style=\"color: #008000; text-decoration-color: #008000\">30.9442</span>    <span style=\"color: #008000; text-decoration-color: #008000\">27.3642</span>  \n",
       "  ▁apples    <span style=\"color: #008000; text-decoration-color: #008000\">0.0716</span>    <span style=\"color: #008000; text-decoration-color: #008000\">43.8999</span>    <span style=\"color: #008000; text-decoration-color: #008000\">0.3341</span>     <span style=\"color: #008000; text-decoration-color: #008000\">7.3740</span>    <span style=\"color: #008000; text-decoration-color: #008000\">46.5694</span>    <span style=\"color: #008000; text-decoration-color: #008000\">51.8812</span>    <span style=\"color: #008000; text-decoration-color: #008000\">32.5115</span>  \n",
       "  ▁does      <span style=\"color: #008000; text-decoration-color: #008000\">0.0323</span>    <span style=\"color: #008000; text-decoration-color: #008000\">33.0140</span>    <span style=\"color: #008000; text-decoration-color: #008000\">0.2630</span>     <span style=\"color: #008000; text-decoration-color: #008000\">4.6643</span>    <span style=\"color: #008000; text-decoration-color: #008000\">23.4358</span>    <span style=\"color: #008000; text-decoration-color: #008000\">19.6655</span>    <span style=\"color: #008000; text-decoration-color: #008000\">14.9890</span>  \n",
       "  ▁Sam       <span style=\"color: #008000; text-decoration-color: #008000\">0.0409</span>    <span style=\"color: #008000; text-decoration-color: #008000\">27.3865</span>    <span style=\"color: #008000; text-decoration-color: #008000\">0.3168</span>     <span style=\"color: #008000; text-decoration-color: #008000\">4.7084</span>    <span style=\"color: #008000; text-decoration-color: #008000\">28.0450</span>    <span style=\"color: #008000; text-decoration-color: #008000\">26.5090</span>    <span style=\"color: #008000; text-decoration-color: #008000\">17.9461</span>  \n",
       "  ▁have      <span style=\"color: #008000; text-decoration-color: #008000\">0.0649</span>    <span style=\"color: #008000; text-decoration-color: #008000\">34.1126</span>    <span style=\"color: #008000; text-decoration-color: #008000\">0.2902</span>     <span style=\"color: #008000; text-decoration-color: #008000\">6.5851</span>    <span style=\"color: #008000; text-decoration-color: #008000\">35.5255</span>    <span style=\"color: #008000; text-decoration-color: #008000\">22.1672</span>    <span style=\"color: #008000; text-decoration-color: #008000\">23.9016</span>  \n",
       "  ?          <span style=\"color: #008000; text-decoration-color: #008000\">0.1469</span>    <span style=\"color: #008000; text-decoration-color: #008000\">59.1601</span>    <span style=\"color: #008000; text-decoration-color: #008000\">0.5917</span>    <span style=\"color: #008000; text-decoration-color: #008000\">11.7581</span>    <span style=\"color: #008000; text-decoration-color: #008000\">68.4922</span>    <span style=\"color: #008000; text-decoration-color: #008000\">40.9595</span>    <span style=\"color: #008000; text-decoration-color: #008000\">41.5126</span>  \n",
       "             <span style=\"color: #008000; text-decoration-color: #008000\">0.0000</span>   <span style=\"color: #008000; text-decoration-color: #008000\">150.9977</span>    <span style=\"color: #008000; text-decoration-color: #008000\">1.2861</span>    <span style=\"color: #008000; text-decoration-color: #008000\">19.3280</span>    <span style=\"color: #008000; text-decoration-color: #008000\">45.8290</span>    <span style=\"color: #008000; text-decoration-color: #008000\">32.2954</span>    <span style=\"color: #008000; text-decoration-color: #008000\">41.1756</span>  \n",
       "                                                                                      \n",
       "                                                                                      \n",
       "  The        <span style=\"color: #008000; text-decoration-color: #008000\">0.0000</span>     <span style=\"color: #008000; text-decoration-color: #008000\">0.0000</span>    <span style=\"color: #008000; text-decoration-color: #008000\">1.2992</span>     <span style=\"color: #008000; text-decoration-color: #008000\">8.3744</span>    <span style=\"color: #008000; text-decoration-color: #008000\">20.3927</span>     <span style=\"color: #008000; text-decoration-color: #008000\">8.5602</span>    <span style=\"color: #008000; text-decoration-color: #008000\">16.5280</span>  \n",
       "  ▁answer    <span style=\"color: #008000; text-decoration-color: #008000\">0.0000</span>     <span style=\"color: #008000; text-decoration-color: #008000\">0.0000</span>    <span style=\"color: #008000; text-decoration-color: #008000\">0.0000</span>    <span style=\"color: #008000; text-decoration-color: #008000\">27.1139</span>    <span style=\"color: #008000; text-decoration-color: #008000\">38.1941</span>    <span style=\"color: #008000; text-decoration-color: #008000\">18.5473</span>    <span style=\"color: #008000; text-decoration-color: #008000\">29.7542</span>  \n",
       "  ▁is        <span style=\"color: #008000; text-decoration-color: #008000\">0.0000</span>     <span style=\"color: #008000; text-decoration-color: #008000\">0.0000</span>    <span style=\"color: #008000; text-decoration-color: #008000\">0.0000</span>     <span style=\"color: #008000; text-decoration-color: #008000\">0.0000</span>    <span style=\"color: #008000; text-decoration-color: #008000\">94.0511</span>    <span style=\"color: #008000; text-decoration-color: #008000\">27.8277</span>    <span style=\"color: #008000; text-decoration-color: #008000\">47.6029</span>  \n",
       "  ▁          <span style=\"color: #008000; text-decoration-color: #008000\">0.0000</span>     <span style=\"color: #008000; text-decoration-color: #008000\">0.0000</span>    <span style=\"color: #008000; text-decoration-color: #008000\">0.0000</span>     <span style=\"color: #008000; text-decoration-color: #008000\">0.0000</span>     <span style=\"color: #008000; text-decoration-color: #008000\">0.0000</span>    <span style=\"color: #008000; text-decoration-color: #008000\">57.5610</span>    <span style=\"color: #008000; text-decoration-color: #008000\">14.0093</span>  \n",
       "  3          <span style=\"color: #008000; text-decoration-color: #008000\">0.0000</span>     <span style=\"color: #008000; text-decoration-color: #008000\">0.0000</span>    <span style=\"color: #008000; text-decoration-color: #008000\">0.0000</span>     <span style=\"color: #008000; text-decoration-color: #008000\">0.0000</span>     <span style=\"color: #008000; text-decoration-color: #008000\">0.0000</span>     <span style=\"color: #008000; text-decoration-color: #008000\">0.0000</span>    <span style=\"color: #008000; text-decoration-color: #008000\">48.1393</span>  \n",
       "  .          <span style=\"color: #008000; text-decoration-color: #008000\">0.0000</span>     <span style=\"color: #008000; text-decoration-color: #008000\">0.0000</span>    <span style=\"color: #008000; text-decoration-color: #008000\">0.0000</span>     <span style=\"color: #008000; text-decoration-color: #008000\">0.0000</span>     <span style=\"color: #008000; text-decoration-color: #008000\">0.0000</span>     <span style=\"color: #008000; text-decoration-color: #008000\">0.0000</span>     <span style=\"color: #008000; text-decoration-color: #008000\">0.0000</span>  \n",
       "                                                                                      \n",
       "</pre>\n"
      ],
      "text/plain": [
       "                                                                                      \n",
       " \u001b[1m          \u001b[0m \u001b[1m \u001b[0m\u001b[1m      \u001b[0m\u001b[1m \u001b[0m \u001b[1m          \u001b[0m \u001b[1m         \u001b[0m \u001b[1m          \u001b[0m \u001b[1m          \u001b[0m \u001b[1m          \u001b[0m \u001b[1m          \u001b[0m \n",
       " \u001b[1m          \u001b[0m \u001b[1m \u001b[0m\u001b[1m      \u001b[0m\u001b[1m \u001b[0m \u001b[1m          \u001b[0m \u001b[1m         \u001b[0m \u001b[1m          \u001b[0m \u001b[1m          \u001b[0m \u001b[1m          \u001b[0m \u001b[1m          \u001b[0m \n",
       " \u001b[1m \u001b[0m\u001b[1m        \u001b[0m\u001b[1m \u001b[0m \u001b[1m \u001b[0m\u001b[1m      \u001b[0m\u001b[1m \u001b[0m \u001b[1m \u001b[0m\u001b[1m     The\u001b[0m\u001b[1m \u001b[0m \u001b[1m \u001b[0m\u001b[1m▁answer\u001b[0m\u001b[1m \u001b[0m \u001b[1m \u001b[0m\u001b[1m     ▁is\u001b[0m\u001b[1m \u001b[0m \u001b[1m \u001b[0m\u001b[1m       ▁\u001b[0m\u001b[1m \u001b[0m \u001b[1m \u001b[0m\u001b[1m       3\u001b[0m\u001b[1m \u001b[0m \u001b[1m \u001b[0m\u001b[1m       .\u001b[0m\u001b[1m \u001b[0m \n",
       " ──────────────────────────────────────────────────────────────────────────────────── \n",
       "  <bos>      \u001b[32m0.7480\u001b[0m   \u001b[31m827.3525\u001b[0m    \u001b[32m2.4268\u001b[0m   \u001b[33m231.6353\u001b[0m   \u001b[31m551.3010\u001b[0m   \u001b[31m460.8656\u001b[0m   \u001b[31m488.2078\u001b[0m  \n",
       "  Sam        \u001b[32m0.1883\u001b[0m   \u001b[32m185.5456\u001b[0m    \u001b[32m1.8554\u001b[0m    \u001b[32m38.9216\u001b[0m   \u001b[32m104.9274\u001b[0m    \u001b[32m24.2310\u001b[0m   \u001b[32m122.5083\u001b[0m  \n",
       "  ▁has       \u001b[32m0.0620\u001b[0m    \u001b[32m57.6189\u001b[0m    \u001b[32m0.4312\u001b[0m     \u001b[32m8.8093\u001b[0m    \u001b[32m41.0717\u001b[0m    \u001b[32m38.5860\u001b[0m    \u001b[32m33.7193\u001b[0m  \n",
       "  ▁          \u001b[32m0.0340\u001b[0m    \u001b[32m26.2205\u001b[0m    \u001b[32m0.2369\u001b[0m     \u001b[32m4.0255\u001b[0m    \u001b[32m24.5529\u001b[0m    \u001b[32m27.5611\u001b[0m    \u001b[32m18.0878\u001b[0m  \n",
       "  3          \u001b[32m0.0337\u001b[0m    \u001b[32m28.9997\u001b[0m    \u001b[32m0.2823\u001b[0m     \u001b[32m5.0299\u001b[0m    \u001b[32m29.9640\u001b[0m    \u001b[32m59.1844\u001b[0m    \u001b[32m32.6388\u001b[0m  \n",
       "  ▁apples    \u001b[32m0.0632\u001b[0m    \u001b[32m66.3430\u001b[0m    \u001b[32m0.4825\u001b[0m     \u001b[32m9.2379\u001b[0m    \u001b[32m43.1779\u001b[0m    \u001b[32m48.0342\u001b[0m    \u001b[32m40.1680\u001b[0m  \n",
       "  ▁and       \u001b[32m0.0410\u001b[0m    \u001b[32m35.8075\u001b[0m    \u001b[32m0.3035\u001b[0m     \u001b[32m5.8184\u001b[0m    \u001b[32m28.4838\u001b[0m    \u001b[32m29.5762\u001b[0m    \u001b[32m19.1980\u001b[0m  \n",
       "  ▁John      \u001b[32m0.0550\u001b[0m    \u001b[32m36.0833\u001b[0m    \u001b[32m0.4106\u001b[0m     \u001b[32m7.2349\u001b[0m    \u001b[32m24.1436\u001b[0m    \u001b[32m21.1167\u001b[0m    \u001b[32m19.9228\u001b[0m  \n",
       "  ▁has       \u001b[32m0.0457\u001b[0m    \u001b[32m33.2646\u001b[0m    \u001b[32m0.3197\u001b[0m     \u001b[32m6.0864\u001b[0m    \u001b[32m27.5308\u001b[0m    \u001b[32m27.2985\u001b[0m    \u001b[32m20.2047\u001b[0m  \n",
       "  ▁          \u001b[32m0.0342\u001b[0m    \u001b[32m18.9863\u001b[0m    \u001b[32m0.2035\u001b[0m     \u001b[32m3.3157\u001b[0m    \u001b[32m20.6291\u001b[0m    \u001b[32m17.4662\u001b[0m    \u001b[32m14.2829\u001b[0m  \n",
       "  5          \u001b[32m0.0317\u001b[0m    \u001b[32m25.6511\u001b[0m    \u001b[32m0.2331\u001b[0m     \u001b[32m3.8841\u001b[0m    \u001b[32m17.9062\u001b[0m    \u001b[32m18.8697\u001b[0m    \u001b[32m20.8133\u001b[0m  \n",
       "  ▁oranges   \u001b[32m0.0598\u001b[0m    \u001b[32m44.3548\u001b[0m    \u001b[32m0.3668\u001b[0m     \u001b[32m6.8322\u001b[0m    \u001b[32m33.3165\u001b[0m    \u001b[32m41.9764\u001b[0m    \u001b[32m27.7359\u001b[0m  \n",
       "  .          \u001b[32m0.0435\u001b[0m    \u001b[32m32.0238\u001b[0m    \u001b[32m0.3410\u001b[0m     \u001b[32m6.2816\u001b[0m    \u001b[32m24.9733\u001b[0m    \u001b[32m17.1649\u001b[0m    \u001b[32m18.4730\u001b[0m  \n",
       "  ▁How       \u001b[32m0.0459\u001b[0m    \u001b[32m36.6674\u001b[0m    \u001b[32m0.3877\u001b[0m     \u001b[32m7.0877\u001b[0m    \u001b[32m29.7497\u001b[0m    \u001b[32m22.6589\u001b[0m    \u001b[32m22.1241\u001b[0m  \n",
       "  ▁many      \u001b[32m0.0470\u001b[0m    \u001b[32m36.2684\u001b[0m    \u001b[32m0.3264\u001b[0m     \u001b[32m6.4464\u001b[0m    \u001b[32m33.1295\u001b[0m    \u001b[32m30.9442\u001b[0m    \u001b[32m27.3642\u001b[0m  \n",
       "  ▁apples    \u001b[32m0.0716\u001b[0m    \u001b[32m43.8999\u001b[0m    \u001b[32m0.3341\u001b[0m     \u001b[32m7.3740\u001b[0m    \u001b[32m46.5694\u001b[0m    \u001b[32m51.8812\u001b[0m    \u001b[32m32.5115\u001b[0m  \n",
       "  ▁does      \u001b[32m0.0323\u001b[0m    \u001b[32m33.0140\u001b[0m    \u001b[32m0.2630\u001b[0m     \u001b[32m4.6643\u001b[0m    \u001b[32m23.4358\u001b[0m    \u001b[32m19.6655\u001b[0m    \u001b[32m14.9890\u001b[0m  \n",
       "  ▁Sam       \u001b[32m0.0409\u001b[0m    \u001b[32m27.3865\u001b[0m    \u001b[32m0.3168\u001b[0m     \u001b[32m4.7084\u001b[0m    \u001b[32m28.0450\u001b[0m    \u001b[32m26.5090\u001b[0m    \u001b[32m17.9461\u001b[0m  \n",
       "  ▁have      \u001b[32m0.0649\u001b[0m    \u001b[32m34.1126\u001b[0m    \u001b[32m0.2902\u001b[0m     \u001b[32m6.5851\u001b[0m    \u001b[32m35.5255\u001b[0m    \u001b[32m22.1672\u001b[0m    \u001b[32m23.9016\u001b[0m  \n",
       "  ?          \u001b[32m0.1469\u001b[0m    \u001b[32m59.1601\u001b[0m    \u001b[32m0.5917\u001b[0m    \u001b[32m11.7581\u001b[0m    \u001b[32m68.4922\u001b[0m    \u001b[32m40.9595\u001b[0m    \u001b[32m41.5126\u001b[0m  \n",
       "             \u001b[32m0.0000\u001b[0m   \u001b[32m150.9977\u001b[0m    \u001b[32m1.2861\u001b[0m    \u001b[32m19.3280\u001b[0m    \u001b[32m45.8290\u001b[0m    \u001b[32m32.2954\u001b[0m    \u001b[32m41.1756\u001b[0m  \n",
       "                                                                                      \n",
       "                                                                                      \n",
       "  The        \u001b[32m0.0000\u001b[0m     \u001b[32m0.0000\u001b[0m    \u001b[32m1.2992\u001b[0m     \u001b[32m8.3744\u001b[0m    \u001b[32m20.3927\u001b[0m     \u001b[32m8.5602\u001b[0m    \u001b[32m16.5280\u001b[0m  \n",
       "  ▁answer    \u001b[32m0.0000\u001b[0m     \u001b[32m0.0000\u001b[0m    \u001b[32m0.0000\u001b[0m    \u001b[32m27.1139\u001b[0m    \u001b[32m38.1941\u001b[0m    \u001b[32m18.5473\u001b[0m    \u001b[32m29.7542\u001b[0m  \n",
       "  ▁is        \u001b[32m0.0000\u001b[0m     \u001b[32m0.0000\u001b[0m    \u001b[32m0.0000\u001b[0m     \u001b[32m0.0000\u001b[0m    \u001b[32m94.0511\u001b[0m    \u001b[32m27.8277\u001b[0m    \u001b[32m47.6029\u001b[0m  \n",
       "  ▁          \u001b[32m0.0000\u001b[0m     \u001b[32m0.0000\u001b[0m    \u001b[32m0.0000\u001b[0m     \u001b[32m0.0000\u001b[0m     \u001b[32m0.0000\u001b[0m    \u001b[32m57.5610\u001b[0m    \u001b[32m14.0093\u001b[0m  \n",
       "  3          \u001b[32m0.0000\u001b[0m     \u001b[32m0.0000\u001b[0m    \u001b[32m0.0000\u001b[0m     \u001b[32m0.0000\u001b[0m     \u001b[32m0.0000\u001b[0m     \u001b[32m0.0000\u001b[0m    \u001b[32m48.1393\u001b[0m  \n",
       "  .          \u001b[32m0.0000\u001b[0m     \u001b[32m0.0000\u001b[0m    \u001b[32m0.0000\u001b[0m     \u001b[32m0.0000\u001b[0m     \u001b[32m0.0000\u001b[0m     \u001b[32m0.0000\u001b[0m     \u001b[32m0.0000\u001b[0m  \n",
       "                                                                                      \n"
      ]
     },
     "metadata": {},
     "output_type": "display_data"
    }
   ],
   "source": [
    "attributor = LocalLLMAttributor(model=model, embeddings=embeddings, tokenizer=tokenizer)\n",
    "attr_scores, token_ids = attributor.compute_attributions(\n",
    "    input_string=\"Sam has 3 apples and John has 5 oranges. How many apples does Sam have?\",\n",
    "    generation_length=7,\n",
    ")\n",
    "\n",
    "attributor.print_attributions(\n",
    "    word_list=tokenizer.convert_ids_to_tokens(token_ids),\n",
    "    attr_scores=attr_scores,\n",
    "    token_ids=token_ids,\n",
    "    generation_length=7,\n",
    ")"
   ]
  },
  {
   "cell_type": "markdown",
   "metadata": {},
   "source": [
    "Looking at the attribution table, we see some sensible values associated with the output token `3` which is the correct answer:\n",
    "\n",
    "|Input Token        | Output Token | Attribution |\n",
    "|-------------------|--------------|-------------|\n",
    "|`3`                | `3`          |  59.1844    |\n",
    "|`apples` (First)   | `3`          |  48.0342    |\n",
    "|`apples` (Second)  | `3`          |  51.8812    |\n",
    "|`5`                | `3`          |  18.8697    |\n",
    "\n",
    "There are high attributions for the input tokens that are strongly associated with the correct answer and low attribution for the input token `5` which would be the incorrect answer. There is something strange about some attribution values in this table for the output token `3`, notably the one associated with the`oranges` and both `Sam` input tokens.\n",
    "\n",
    "|Input Token        | Output Token | Attribution |\n",
    "|-------------------|--------------|-------------|\n",
    "|`oranges`          | `3`          |  41.9764    |\n",
    "|`Sam` (First)      | `3`          |  24.2310    |\n",
    "|`Sam` (Second)     | `3`          |  26.5090    |\n",
    "\n",
    "This value for the `oranges` token is surprisingly close to the input tokens associated with the correct answer input tokens and also quite a bit larger than the values associated with the incorrect answer input tokens. The values for both the `Sam` tokens however are surprisingly low and ideally should be higher since the model answers the question in Scenario 1 correctly."
   ]
  },
  {
   "cell_type": "markdown",
   "metadata": {},
   "source": [
    "Using the above analysis, we can come up with two hypotheses about model behaviour that could be potential causes for the failure in Scenario 2:\n",
    "\n",
    "__Hypothesis 1__: Gemma-2B pays undue attention on the `oranges` tokens when asked about `apples` in Scenario 1 pointing to some confusion around which fruit is being asked about in the question.\n",
    "\n",
    "__Hypothesis 2__: Gemma-2B doesn't associate `apples` strongly with `Sam` in Scenario 1 which causes the model to output the incorrect answer in Scenario 2"
   ]
  },
  {
   "cell_type": "markdown",
   "metadata": {},
   "source": [
    "## Conclusion\n",
    "\n",
    "In this notebook, we show a case study where attribution helps us generate hypotheses to understand model failures. There is much work to be done in this space and we encourage readers to further inspect more model failures and validate the usefulness of attribution. We welcome proposals for features and communication regarding experiments with our library to be sent to `hello@leap-labs.com`"
   ]
  }
 ],
 "metadata": {
  "kernelspec": {
   "display_name": "base",
   "language": "python",
   "name": "python3"
  },
  "language_info": {
   "codemirror_mode": {
    "name": "ipython",
    "version": 3
   },
   "file_extension": ".py",
   "mimetype": "text/x-python",
   "name": "python",
   "nbconvert_exporter": "python",
   "pygments_lexer": "ipython3",
   "version": "3.10.14"
  }
 },
 "nbformat": 4,
 "nbformat_minor": 2
}
